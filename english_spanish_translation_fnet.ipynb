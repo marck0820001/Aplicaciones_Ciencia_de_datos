{
  "cells": [
    {
      "cell_type": "markdown",
      "id": "ca29dd9e",
      "metadata": {
        "id": "ca29dd9e",
        "papermill": {
          "duration": 0.013422,
          "end_time": "2023-05-04T17:23:23.194499",
          "exception": false,
          "start_time": "2023-05-04T17:23:23.181077",
          "status": "completed"
        },
        "tags": []
      },
      "source": [
        "# English-Spanish Translation: FNet\n",
        "## Table of Contents\n",
        "* Overview\n",
        "* Configuration\n",
        "* Setup\n",
        "* Import datasets\n",
        "* Model Development\n",
        "* Transalation\n",
        "* References"
      ]
    },
    {
      "cell_type": "code",
      "source": [
        "!gdown https://drive.google.com/file/d/1muYCUnsqg8eb8W2nsy94ezCfBPd_hcPx/view?usp=sharing --fuzzy -O data.csv"
      ],
      "metadata": {
        "colab": {
          "base_uri": "https://localhost:8080/"
        },
        "id": "G8zAUb2XSJCW",
        "outputId": "eef42ce9-be8e-4027-ef8c-7a636c321dff"
      },
      "id": "G8zAUb2XSJCW",
      "execution_count": null,
      "outputs": [
        {
          "output_type": "stream",
          "name": "stdout",
          "text": [
            "Downloading...\n",
            "From: https://drive.google.com/uc?id=1muYCUnsqg8eb8W2nsy94ezCfBPd_hcPx\n",
            "To: /content/data.csv\n",
            "100% 8.07M/8.07M [00:00<00:00, 21.9MB/s]\n"
          ]
        }
      ]
    },
    {
      "cell_type": "markdown",
      "id": "a32292d7",
      "metadata": {
        "id": "a32292d7",
        "papermill": {
          "duration": 0.008593,
          "end_time": "2023-05-04T17:23:23.230550",
          "exception": false,
          "start_time": "2023-05-04T17:23:23.221957",
          "status": "completed"
        },
        "tags": []
      },
      "source": [
        "## Configuration"
      ]
    },
    {
      "cell_type": "code",
      "execution_count": null,
      "id": "f971efb3",
      "metadata": {
        "execution": {
          "iopub.execute_input": "2023-05-04T17:23:23.250003Z",
          "iopub.status.busy": "2023-05-04T17:23:23.249594Z",
          "iopub.status.idle": "2023-05-04T17:23:23.266751Z",
          "shell.execute_reply": "2023-05-04T17:23:23.265929Z"
        },
        "id": "f971efb3",
        "papermill": {
          "duration": 0.029631,
          "end_time": "2023-05-04T17:23:23.269138",
          "exception": false,
          "start_time": "2023-05-04T17:23:23.239507",
          "status": "completed"
        },
        "tags": []
      },
      "outputs": [],
      "source": [
        "class Config:\n",
        "    vocab_size = 15000 # Vocabulary Size\n",
        "    sequence_length = 20\n",
        "    batch_size = 64\n",
        "    validation_split = 0.15\n",
        "    embed_dim = 256\n",
        "    latent_dim = 256\n",
        "    num_heads = 2\n",
        "    epochs = 10 # Number of Epochs to train\n",
        "    model_path = \"model.h5\"\n",
        "    begin_token = \"[start]\"\n",
        "    end_token = \"[end]\"\n",
        "    use_pretrained_model = False # Download pretrained Model to speedup the training\n",
        "config = Config()"
      ]
    },
    {
      "cell_type": "markdown",
      "id": "07542c02",
      "metadata": {
        "id": "07542c02",
        "papermill": {
          "duration": 0.008639,
          "end_time": "2023-05-04T17:23:23.287501",
          "exception": false,
          "start_time": "2023-05-04T17:23:23.278862",
          "status": "completed"
        },
        "tags": []
      },
      "source": [
        "## Setup"
      ]
    },
    {
      "cell_type": "code",
      "execution_count": null,
      "id": "f04babad",
      "metadata": {
        "execution": {
          "iopub.execute_input": "2023-05-04T17:23:23.306719Z",
          "iopub.status.busy": "2023-05-04T17:23:23.306349Z",
          "iopub.status.idle": "2023-05-04T17:23:30.085777Z",
          "shell.execute_reply": "2023-05-04T17:23:30.084773Z"
        },
        "id": "f04babad",
        "papermill": {
          "duration": 6.792009,
          "end_time": "2023-05-04T17:23:30.088452",
          "exception": false,
          "start_time": "2023-05-04T17:23:23.296443",
          "status": "completed"
        },
        "tags": []
      },
      "outputs": [],
      "source": [
        "import pandas as pd\n",
        "import tensorflow as tf\n",
        "from tensorflow.keras.layers import TextVectorization\n",
        "import pathlib\n",
        "import random\n",
        "import string\n",
        "import re\n",
        "import numpy as np\n",
        "from tensorflow import keras\n",
        "from tensorflow.keras import layers\n",
        "import os\n",
        "import sklearn\n",
        "from sklearn.model_selection import train_test_split"
      ]
    },
    {
      "cell_type": "markdown",
      "id": "3652c640",
      "metadata": {
        "id": "3652c640",
        "papermill": {
          "duration": 0.005998,
          "end_time": "2023-05-04T17:23:30.101048",
          "exception": false,
          "start_time": "2023-05-04T17:23:30.095050",
          "status": "completed"
        },
        "tags": []
      },
      "source": [
        "## Import datasets"
      ]
    },
    {
      "cell_type": "code",
      "execution_count": null,
      "id": "e072d36a",
      "metadata": {
        "execution": {
          "iopub.execute_input": "2023-05-04T17:23:30.114884Z",
          "iopub.status.busy": "2023-05-04T17:23:30.114270Z",
          "iopub.status.idle": "2023-05-04T17:23:30.410451Z",
          "shell.execute_reply": "2023-05-04T17:23:30.409558Z"
        },
        "id": "e072d36a",
        "outputId": "40d6e7e8-919c-4c54-ded0-b1327a757ab1",
        "papermill": {
          "duration": 0.305366,
          "end_time": "2023-05-04T17:23:30.412531",
          "exception": false,
          "start_time": "2023-05-04T17:23:30.107165",
          "status": "completed"
        },
        "tags": [],
        "colab": {
          "base_uri": "https://localhost:8080/",
          "height": 206
        }
      },
      "outputs": [
        {
          "output_type": "execute_result",
          "data": {
            "text/plain": [
              "  english  spanish\n",
              "0     Go.      Ve.\n",
              "1     Go.    Vete.\n",
              "2     Go.    Vaya.\n",
              "3     Go.  Váyase.\n",
              "4     Hi.    Hola."
            ],
            "text/html": [
              "\n",
              "  <div id=\"df-f49cb7b2-fa1d-4426-be33-6a7ae85aa29f\" class=\"colab-df-container\">\n",
              "    <div>\n",
              "<style scoped>\n",
              "    .dataframe tbody tr th:only-of-type {\n",
              "        vertical-align: middle;\n",
              "    }\n",
              "\n",
              "    .dataframe tbody tr th {\n",
              "        vertical-align: top;\n",
              "    }\n",
              "\n",
              "    .dataframe thead th {\n",
              "        text-align: right;\n",
              "    }\n",
              "</style>\n",
              "<table border=\"1\" class=\"dataframe\">\n",
              "  <thead>\n",
              "    <tr style=\"text-align: right;\">\n",
              "      <th></th>\n",
              "      <th>english</th>\n",
              "      <th>spanish</th>\n",
              "    </tr>\n",
              "  </thead>\n",
              "  <tbody>\n",
              "    <tr>\n",
              "      <th>0</th>\n",
              "      <td>Go.</td>\n",
              "      <td>Ve.</td>\n",
              "    </tr>\n",
              "    <tr>\n",
              "      <th>1</th>\n",
              "      <td>Go.</td>\n",
              "      <td>Vete.</td>\n",
              "    </tr>\n",
              "    <tr>\n",
              "      <th>2</th>\n",
              "      <td>Go.</td>\n",
              "      <td>Vaya.</td>\n",
              "    </tr>\n",
              "    <tr>\n",
              "      <th>3</th>\n",
              "      <td>Go.</td>\n",
              "      <td>Váyase.</td>\n",
              "    </tr>\n",
              "    <tr>\n",
              "      <th>4</th>\n",
              "      <td>Hi.</td>\n",
              "      <td>Hola.</td>\n",
              "    </tr>\n",
              "  </tbody>\n",
              "</table>\n",
              "</div>\n",
              "    <div class=\"colab-df-buttons\">\n",
              "\n",
              "  <div class=\"colab-df-container\">\n",
              "    <button class=\"colab-df-convert\" onclick=\"convertToInteractive('df-f49cb7b2-fa1d-4426-be33-6a7ae85aa29f')\"\n",
              "            title=\"Convert this dataframe to an interactive table.\"\n",
              "            style=\"display:none;\">\n",
              "\n",
              "  <svg xmlns=\"http://www.w3.org/2000/svg\" height=\"24px\" viewBox=\"0 -960 960 960\">\n",
              "    <path d=\"M120-120v-720h720v720H120Zm60-500h600v-160H180v160Zm220 220h160v-160H400v160Zm0 220h160v-160H400v160ZM180-400h160v-160H180v160Zm440 0h160v-160H620v160ZM180-180h160v-160H180v160Zm440 0h160v-160H620v160Z\"/>\n",
              "  </svg>\n",
              "    </button>\n",
              "\n",
              "  <style>\n",
              "    .colab-df-container {\n",
              "      display:flex;\n",
              "      gap: 12px;\n",
              "    }\n",
              "\n",
              "    .colab-df-convert {\n",
              "      background-color: #E8F0FE;\n",
              "      border: none;\n",
              "      border-radius: 50%;\n",
              "      cursor: pointer;\n",
              "      display: none;\n",
              "      fill: #1967D2;\n",
              "      height: 32px;\n",
              "      padding: 0 0 0 0;\n",
              "      width: 32px;\n",
              "    }\n",
              "\n",
              "    .colab-df-convert:hover {\n",
              "      background-color: #E2EBFA;\n",
              "      box-shadow: 0px 1px 2px rgba(60, 64, 67, 0.3), 0px 1px 3px 1px rgba(60, 64, 67, 0.15);\n",
              "      fill: #174EA6;\n",
              "    }\n",
              "\n",
              "    .colab-df-buttons div {\n",
              "      margin-bottom: 4px;\n",
              "    }\n",
              "\n",
              "    [theme=dark] .colab-df-convert {\n",
              "      background-color: #3B4455;\n",
              "      fill: #D2E3FC;\n",
              "    }\n",
              "\n",
              "    [theme=dark] .colab-df-convert:hover {\n",
              "      background-color: #434B5C;\n",
              "      box-shadow: 0px 1px 3px 1px rgba(0, 0, 0, 0.15);\n",
              "      filter: drop-shadow(0px 1px 2px rgba(0, 0, 0, 0.3));\n",
              "      fill: #FFFFFF;\n",
              "    }\n",
              "  </style>\n",
              "\n",
              "    <script>\n",
              "      const buttonEl =\n",
              "        document.querySelector('#df-f49cb7b2-fa1d-4426-be33-6a7ae85aa29f button.colab-df-convert');\n",
              "      buttonEl.style.display =\n",
              "        google.colab.kernel.accessAllowed ? 'block' : 'none';\n",
              "\n",
              "      async function convertToInteractive(key) {\n",
              "        const element = document.querySelector('#df-f49cb7b2-fa1d-4426-be33-6a7ae85aa29f');\n",
              "        const dataTable =\n",
              "          await google.colab.kernel.invokeFunction('convertToInteractive',\n",
              "                                                    [key], {});\n",
              "        if (!dataTable) return;\n",
              "\n",
              "        const docLinkHtml = 'Like what you see? Visit the ' +\n",
              "          '<a target=\"_blank\" href=https://colab.research.google.com/notebooks/data_table.ipynb>data table notebook</a>'\n",
              "          + ' to learn more about interactive tables.';\n",
              "        element.innerHTML = '';\n",
              "        dataTable['output_type'] = 'display_data';\n",
              "        await google.colab.output.renderOutput(dataTable, element);\n",
              "        const docLink = document.createElement('div');\n",
              "        docLink.innerHTML = docLinkHtml;\n",
              "        element.appendChild(docLink);\n",
              "      }\n",
              "    </script>\n",
              "  </div>\n",
              "\n",
              "\n",
              "<div id=\"df-7becdea5-e8ec-4db8-801e-a610748429e4\">\n",
              "  <button class=\"colab-df-quickchart\" onclick=\"quickchart('df-7becdea5-e8ec-4db8-801e-a610748429e4')\"\n",
              "            title=\"Suggest charts\"\n",
              "            style=\"display:none;\">\n",
              "\n",
              "<svg xmlns=\"http://www.w3.org/2000/svg\" height=\"24px\"viewBox=\"0 0 24 24\"\n",
              "     width=\"24px\">\n",
              "    <g>\n",
              "        <path d=\"M19 3H5c-1.1 0-2 .9-2 2v14c0 1.1.9 2 2 2h14c1.1 0 2-.9 2-2V5c0-1.1-.9-2-2-2zM9 17H7v-7h2v7zm4 0h-2V7h2v10zm4 0h-2v-4h2v4z\"/>\n",
              "    </g>\n",
              "</svg>\n",
              "  </button>\n",
              "\n",
              "<style>\n",
              "  .colab-df-quickchart {\n",
              "      --bg-color: #E8F0FE;\n",
              "      --fill-color: #1967D2;\n",
              "      --hover-bg-color: #E2EBFA;\n",
              "      --hover-fill-color: #174EA6;\n",
              "      --disabled-fill-color: #AAA;\n",
              "      --disabled-bg-color: #DDD;\n",
              "  }\n",
              "\n",
              "  [theme=dark] .colab-df-quickchart {\n",
              "      --bg-color: #3B4455;\n",
              "      --fill-color: #D2E3FC;\n",
              "      --hover-bg-color: #434B5C;\n",
              "      --hover-fill-color: #FFFFFF;\n",
              "      --disabled-bg-color: #3B4455;\n",
              "      --disabled-fill-color: #666;\n",
              "  }\n",
              "\n",
              "  .colab-df-quickchart {\n",
              "    background-color: var(--bg-color);\n",
              "    border: none;\n",
              "    border-radius: 50%;\n",
              "    cursor: pointer;\n",
              "    display: none;\n",
              "    fill: var(--fill-color);\n",
              "    height: 32px;\n",
              "    padding: 0;\n",
              "    width: 32px;\n",
              "  }\n",
              "\n",
              "  .colab-df-quickchart:hover {\n",
              "    background-color: var(--hover-bg-color);\n",
              "    box-shadow: 0 1px 2px rgba(60, 64, 67, 0.3), 0 1px 3px 1px rgba(60, 64, 67, 0.15);\n",
              "    fill: var(--button-hover-fill-color);\n",
              "  }\n",
              "\n",
              "  .colab-df-quickchart-complete:disabled,\n",
              "  .colab-df-quickchart-complete:disabled:hover {\n",
              "    background-color: var(--disabled-bg-color);\n",
              "    fill: var(--disabled-fill-color);\n",
              "    box-shadow: none;\n",
              "  }\n",
              "\n",
              "  .colab-df-spinner {\n",
              "    border: 2px solid var(--fill-color);\n",
              "    border-color: transparent;\n",
              "    border-bottom-color: var(--fill-color);\n",
              "    animation:\n",
              "      spin 1s steps(1) infinite;\n",
              "  }\n",
              "\n",
              "  @keyframes spin {\n",
              "    0% {\n",
              "      border-color: transparent;\n",
              "      border-bottom-color: var(--fill-color);\n",
              "      border-left-color: var(--fill-color);\n",
              "    }\n",
              "    20% {\n",
              "      border-color: transparent;\n",
              "      border-left-color: var(--fill-color);\n",
              "      border-top-color: var(--fill-color);\n",
              "    }\n",
              "    30% {\n",
              "      border-color: transparent;\n",
              "      border-left-color: var(--fill-color);\n",
              "      border-top-color: var(--fill-color);\n",
              "      border-right-color: var(--fill-color);\n",
              "    }\n",
              "    40% {\n",
              "      border-color: transparent;\n",
              "      border-right-color: var(--fill-color);\n",
              "      border-top-color: var(--fill-color);\n",
              "    }\n",
              "    60% {\n",
              "      border-color: transparent;\n",
              "      border-right-color: var(--fill-color);\n",
              "    }\n",
              "    80% {\n",
              "      border-color: transparent;\n",
              "      border-right-color: var(--fill-color);\n",
              "      border-bottom-color: var(--fill-color);\n",
              "    }\n",
              "    90% {\n",
              "      border-color: transparent;\n",
              "      border-bottom-color: var(--fill-color);\n",
              "    }\n",
              "  }\n",
              "</style>\n",
              "\n",
              "  <script>\n",
              "    async function quickchart(key) {\n",
              "      const quickchartButtonEl =\n",
              "        document.querySelector('#' + key + ' button');\n",
              "      quickchartButtonEl.disabled = true;  // To prevent multiple clicks.\n",
              "      quickchartButtonEl.classList.add('colab-df-spinner');\n",
              "      try {\n",
              "        const charts = await google.colab.kernel.invokeFunction(\n",
              "            'suggestCharts', [key], {});\n",
              "      } catch (error) {\n",
              "        console.error('Error during call to suggestCharts:', error);\n",
              "      }\n",
              "      quickchartButtonEl.classList.remove('colab-df-spinner');\n",
              "      quickchartButtonEl.classList.add('colab-df-quickchart-complete');\n",
              "    }\n",
              "    (() => {\n",
              "      let quickchartButtonEl =\n",
              "        document.querySelector('#df-7becdea5-e8ec-4db8-801e-a610748429e4 button');\n",
              "      quickchartButtonEl.style.display =\n",
              "        google.colab.kernel.accessAllowed ? 'block' : 'none';\n",
              "    })();\n",
              "  </script>\n",
              "</div>\n",
              "\n",
              "    </div>\n",
              "  </div>\n"
            ],
            "application/vnd.google.colaboratory.intrinsic+json": {
              "type": "dataframe",
              "variable_name": "data"
            }
          },
          "metadata": {},
          "execution_count": 4
        }
      ],
      "source": [
        "data = pd.read_csv(\"data.csv\")\n",
        "data.head()"
      ]
    },
    {
      "cell_type": "code",
      "execution_count": null,
      "id": "e8aefb1b",
      "metadata": {
        "execution": {
          "iopub.execute_input": "2023-05-04T17:23:30.427026Z",
          "iopub.status.busy": "2023-05-04T17:23:30.426731Z",
          "iopub.status.idle": "2023-05-04T17:23:30.491022Z",
          "shell.execute_reply": "2023-05-04T17:23:30.490089Z"
        },
        "id": "e8aefb1b",
        "papermill": {
          "duration": 0.07394,
          "end_time": "2023-05-04T17:23:30.493250",
          "exception": false,
          "start_time": "2023-05-04T17:23:30.419310",
          "status": "completed"
        },
        "tags": []
      },
      "outputs": [],
      "source": [
        "data[\"spanish\"] = data[\"spanish\"].apply(lambda item: config.begin_token + \" \" + item + \" \" + config.end_token)"
      ]
    },
    {
      "cell_type": "code",
      "execution_count": null,
      "id": "5ef9e715",
      "metadata": {
        "execution": {
          "iopub.execute_input": "2023-05-04T17:23:30.507764Z",
          "iopub.status.busy": "2023-05-04T17:23:30.507434Z",
          "iopub.status.idle": "2023-05-04T17:23:30.515514Z",
          "shell.execute_reply": "2023-05-04T17:23:30.514542Z"
        },
        "id": "5ef9e715",
        "outputId": "d1472985-a0da-42df-8de5-0e6a5f7ef015",
        "papermill": {
          "duration": 0.018431,
          "end_time": "2023-05-04T17:23:30.518465",
          "exception": false,
          "start_time": "2023-05-04T17:23:30.500034",
          "status": "completed"
        },
        "tags": [],
        "colab": {
          "base_uri": "https://localhost:8080/",
          "height": 206
        }
      },
      "outputs": [
        {
          "output_type": "execute_result",
          "data": {
            "text/plain": [
              "  english                spanish\n",
              "0     Go.      [start] Ve. [end]\n",
              "1     Go.    [start] Vete. [end]\n",
              "2     Go.    [start] Vaya. [end]\n",
              "3     Go.  [start] Váyase. [end]\n",
              "4     Hi.    [start] Hola. [end]"
            ],
            "text/html": [
              "\n",
              "  <div id=\"df-812e3324-2f3c-4b77-a7bc-d01c2614bcb2\" class=\"colab-df-container\">\n",
              "    <div>\n",
              "<style scoped>\n",
              "    .dataframe tbody tr th:only-of-type {\n",
              "        vertical-align: middle;\n",
              "    }\n",
              "\n",
              "    .dataframe tbody tr th {\n",
              "        vertical-align: top;\n",
              "    }\n",
              "\n",
              "    .dataframe thead th {\n",
              "        text-align: right;\n",
              "    }\n",
              "</style>\n",
              "<table border=\"1\" class=\"dataframe\">\n",
              "  <thead>\n",
              "    <tr style=\"text-align: right;\">\n",
              "      <th></th>\n",
              "      <th>english</th>\n",
              "      <th>spanish</th>\n",
              "    </tr>\n",
              "  </thead>\n",
              "  <tbody>\n",
              "    <tr>\n",
              "      <th>0</th>\n",
              "      <td>Go.</td>\n",
              "      <td>[start] Ve. [end]</td>\n",
              "    </tr>\n",
              "    <tr>\n",
              "      <th>1</th>\n",
              "      <td>Go.</td>\n",
              "      <td>[start] Vete. [end]</td>\n",
              "    </tr>\n",
              "    <tr>\n",
              "      <th>2</th>\n",
              "      <td>Go.</td>\n",
              "      <td>[start] Vaya. [end]</td>\n",
              "    </tr>\n",
              "    <tr>\n",
              "      <th>3</th>\n",
              "      <td>Go.</td>\n",
              "      <td>[start] Váyase. [end]</td>\n",
              "    </tr>\n",
              "    <tr>\n",
              "      <th>4</th>\n",
              "      <td>Hi.</td>\n",
              "      <td>[start] Hola. [end]</td>\n",
              "    </tr>\n",
              "  </tbody>\n",
              "</table>\n",
              "</div>\n",
              "    <div class=\"colab-df-buttons\">\n",
              "\n",
              "  <div class=\"colab-df-container\">\n",
              "    <button class=\"colab-df-convert\" onclick=\"convertToInteractive('df-812e3324-2f3c-4b77-a7bc-d01c2614bcb2')\"\n",
              "            title=\"Convert this dataframe to an interactive table.\"\n",
              "            style=\"display:none;\">\n",
              "\n",
              "  <svg xmlns=\"http://www.w3.org/2000/svg\" height=\"24px\" viewBox=\"0 -960 960 960\">\n",
              "    <path d=\"M120-120v-720h720v720H120Zm60-500h600v-160H180v160Zm220 220h160v-160H400v160Zm0 220h160v-160H400v160ZM180-400h160v-160H180v160Zm440 0h160v-160H620v160ZM180-180h160v-160H180v160Zm440 0h160v-160H620v160Z\"/>\n",
              "  </svg>\n",
              "    </button>\n",
              "\n",
              "  <style>\n",
              "    .colab-df-container {\n",
              "      display:flex;\n",
              "      gap: 12px;\n",
              "    }\n",
              "\n",
              "    .colab-df-convert {\n",
              "      background-color: #E8F0FE;\n",
              "      border: none;\n",
              "      border-radius: 50%;\n",
              "      cursor: pointer;\n",
              "      display: none;\n",
              "      fill: #1967D2;\n",
              "      height: 32px;\n",
              "      padding: 0 0 0 0;\n",
              "      width: 32px;\n",
              "    }\n",
              "\n",
              "    .colab-df-convert:hover {\n",
              "      background-color: #E2EBFA;\n",
              "      box-shadow: 0px 1px 2px rgba(60, 64, 67, 0.3), 0px 1px 3px 1px rgba(60, 64, 67, 0.15);\n",
              "      fill: #174EA6;\n",
              "    }\n",
              "\n",
              "    .colab-df-buttons div {\n",
              "      margin-bottom: 4px;\n",
              "    }\n",
              "\n",
              "    [theme=dark] .colab-df-convert {\n",
              "      background-color: #3B4455;\n",
              "      fill: #D2E3FC;\n",
              "    }\n",
              "\n",
              "    [theme=dark] .colab-df-convert:hover {\n",
              "      background-color: #434B5C;\n",
              "      box-shadow: 0px 1px 3px 1px rgba(0, 0, 0, 0.15);\n",
              "      filter: drop-shadow(0px 1px 2px rgba(0, 0, 0, 0.3));\n",
              "      fill: #FFFFFF;\n",
              "    }\n",
              "  </style>\n",
              "\n",
              "    <script>\n",
              "      const buttonEl =\n",
              "        document.querySelector('#df-812e3324-2f3c-4b77-a7bc-d01c2614bcb2 button.colab-df-convert');\n",
              "      buttonEl.style.display =\n",
              "        google.colab.kernel.accessAllowed ? 'block' : 'none';\n",
              "\n",
              "      async function convertToInteractive(key) {\n",
              "        const element = document.querySelector('#df-812e3324-2f3c-4b77-a7bc-d01c2614bcb2');\n",
              "        const dataTable =\n",
              "          await google.colab.kernel.invokeFunction('convertToInteractive',\n",
              "                                                    [key], {});\n",
              "        if (!dataTable) return;\n",
              "\n",
              "        const docLinkHtml = 'Like what you see? Visit the ' +\n",
              "          '<a target=\"_blank\" href=https://colab.research.google.com/notebooks/data_table.ipynb>data table notebook</a>'\n",
              "          + ' to learn more about interactive tables.';\n",
              "        element.innerHTML = '';\n",
              "        dataTable['output_type'] = 'display_data';\n",
              "        await google.colab.output.renderOutput(dataTable, element);\n",
              "        const docLink = document.createElement('div');\n",
              "        docLink.innerHTML = docLinkHtml;\n",
              "        element.appendChild(docLink);\n",
              "      }\n",
              "    </script>\n",
              "  </div>\n",
              "\n",
              "\n",
              "<div id=\"df-1704d021-c7dc-4fe5-8cd4-59df30d0f7d2\">\n",
              "  <button class=\"colab-df-quickchart\" onclick=\"quickchart('df-1704d021-c7dc-4fe5-8cd4-59df30d0f7d2')\"\n",
              "            title=\"Suggest charts\"\n",
              "            style=\"display:none;\">\n",
              "\n",
              "<svg xmlns=\"http://www.w3.org/2000/svg\" height=\"24px\"viewBox=\"0 0 24 24\"\n",
              "     width=\"24px\">\n",
              "    <g>\n",
              "        <path d=\"M19 3H5c-1.1 0-2 .9-2 2v14c0 1.1.9 2 2 2h14c1.1 0 2-.9 2-2V5c0-1.1-.9-2-2-2zM9 17H7v-7h2v7zm4 0h-2V7h2v10zm4 0h-2v-4h2v4z\"/>\n",
              "    </g>\n",
              "</svg>\n",
              "  </button>\n",
              "\n",
              "<style>\n",
              "  .colab-df-quickchart {\n",
              "      --bg-color: #E8F0FE;\n",
              "      --fill-color: #1967D2;\n",
              "      --hover-bg-color: #E2EBFA;\n",
              "      --hover-fill-color: #174EA6;\n",
              "      --disabled-fill-color: #AAA;\n",
              "      --disabled-bg-color: #DDD;\n",
              "  }\n",
              "\n",
              "  [theme=dark] .colab-df-quickchart {\n",
              "      --bg-color: #3B4455;\n",
              "      --fill-color: #D2E3FC;\n",
              "      --hover-bg-color: #434B5C;\n",
              "      --hover-fill-color: #FFFFFF;\n",
              "      --disabled-bg-color: #3B4455;\n",
              "      --disabled-fill-color: #666;\n",
              "  }\n",
              "\n",
              "  .colab-df-quickchart {\n",
              "    background-color: var(--bg-color);\n",
              "    border: none;\n",
              "    border-radius: 50%;\n",
              "    cursor: pointer;\n",
              "    display: none;\n",
              "    fill: var(--fill-color);\n",
              "    height: 32px;\n",
              "    padding: 0;\n",
              "    width: 32px;\n",
              "  }\n",
              "\n",
              "  .colab-df-quickchart:hover {\n",
              "    background-color: var(--hover-bg-color);\n",
              "    box-shadow: 0 1px 2px rgba(60, 64, 67, 0.3), 0 1px 3px 1px rgba(60, 64, 67, 0.15);\n",
              "    fill: var(--button-hover-fill-color);\n",
              "  }\n",
              "\n",
              "  .colab-df-quickchart-complete:disabled,\n",
              "  .colab-df-quickchart-complete:disabled:hover {\n",
              "    background-color: var(--disabled-bg-color);\n",
              "    fill: var(--disabled-fill-color);\n",
              "    box-shadow: none;\n",
              "  }\n",
              "\n",
              "  .colab-df-spinner {\n",
              "    border: 2px solid var(--fill-color);\n",
              "    border-color: transparent;\n",
              "    border-bottom-color: var(--fill-color);\n",
              "    animation:\n",
              "      spin 1s steps(1) infinite;\n",
              "  }\n",
              "\n",
              "  @keyframes spin {\n",
              "    0% {\n",
              "      border-color: transparent;\n",
              "      border-bottom-color: var(--fill-color);\n",
              "      border-left-color: var(--fill-color);\n",
              "    }\n",
              "    20% {\n",
              "      border-color: transparent;\n",
              "      border-left-color: var(--fill-color);\n",
              "      border-top-color: var(--fill-color);\n",
              "    }\n",
              "    30% {\n",
              "      border-color: transparent;\n",
              "      border-left-color: var(--fill-color);\n",
              "      border-top-color: var(--fill-color);\n",
              "      border-right-color: var(--fill-color);\n",
              "    }\n",
              "    40% {\n",
              "      border-color: transparent;\n",
              "      border-right-color: var(--fill-color);\n",
              "      border-top-color: var(--fill-color);\n",
              "    }\n",
              "    60% {\n",
              "      border-color: transparent;\n",
              "      border-right-color: var(--fill-color);\n",
              "    }\n",
              "    80% {\n",
              "      border-color: transparent;\n",
              "      border-right-color: var(--fill-color);\n",
              "      border-bottom-color: var(--fill-color);\n",
              "    }\n",
              "    90% {\n",
              "      border-color: transparent;\n",
              "      border-bottom-color: var(--fill-color);\n",
              "    }\n",
              "  }\n",
              "</style>\n",
              "\n",
              "  <script>\n",
              "    async function quickchart(key) {\n",
              "      const quickchartButtonEl =\n",
              "        document.querySelector('#' + key + ' button');\n",
              "      quickchartButtonEl.disabled = true;  // To prevent multiple clicks.\n",
              "      quickchartButtonEl.classList.add('colab-df-spinner');\n",
              "      try {\n",
              "        const charts = await google.colab.kernel.invokeFunction(\n",
              "            'suggestCharts', [key], {});\n",
              "      } catch (error) {\n",
              "        console.error('Error during call to suggestCharts:', error);\n",
              "      }\n",
              "      quickchartButtonEl.classList.remove('colab-df-spinner');\n",
              "      quickchartButtonEl.classList.add('colab-df-quickchart-complete');\n",
              "    }\n",
              "    (() => {\n",
              "      let quickchartButtonEl =\n",
              "        document.querySelector('#df-1704d021-c7dc-4fe5-8cd4-59df30d0f7d2 button');\n",
              "      quickchartButtonEl.style.display =\n",
              "        google.colab.kernel.accessAllowed ? 'block' : 'none';\n",
              "    })();\n",
              "  </script>\n",
              "</div>\n",
              "\n",
              "    </div>\n",
              "  </div>\n"
            ],
            "application/vnd.google.colaboratory.intrinsic+json": {
              "type": "dataframe",
              "variable_name": "data"
            }
          },
          "metadata": {},
          "execution_count": 6
        }
      ],
      "source": [
        "data.head()"
      ]
    },
    {
      "cell_type": "code",
      "execution_count": null,
      "id": "5cc8604d",
      "metadata": {
        "execution": {
          "iopub.execute_input": "2023-05-04T17:23:30.532347Z",
          "iopub.status.busy": "2023-05-04T17:23:30.532079Z",
          "iopub.status.idle": "2023-05-04T17:23:50.729060Z",
          "shell.execute_reply": "2023-05-04T17:23:50.728099Z"
        },
        "id": "5cc8604d",
        "outputId": "47ec9d24-4414-4204-f170-25c893a9320f",
        "papermill": {
          "duration": 20.20658,
          "end_time": "2023-05-04T17:23:50.731486",
          "exception": false,
          "start_time": "2023-05-04T17:23:30.524906",
          "status": "completed"
        },
        "tags": [],
        "colab": {
          "base_uri": "https://localhost:8080/"
        }
      },
      "outputs": [
        {
          "output_type": "stream",
          "name": "stdout",
          "text": [
            "!\"#$%&'()*+,-./:;<=>?@\\^_`{|}~¿\n"
          ]
        }
      ],
      "source": [
        "strip_chars = string.punctuation + \"¿\"\n",
        "strip_chars = strip_chars.replace(\"[\", \"\")\n",
        "strip_chars = strip_chars.replace(\"]\", \"\")\n",
        "print(strip_chars)\n",
        "def spanish_standardize(input_string):\n",
        "    lowercase = tf.strings.lower(input_string)\n",
        "    return tf.strings.regex_replace(lowercase, \"[%s]\"%re.escape(strip_chars), \"\")\n",
        "english_vectorization = TextVectorization(\n",
        "    max_tokens=config.vocab_size,\n",
        "    output_mode=\"int\",\n",
        "    output_sequence_length=config.sequence_length,\n",
        ")\n",
        "spanish_vectorization = TextVectorization(\n",
        "    max_tokens=config.vocab_size,\n",
        "    output_mode=\"int\",\n",
        "    output_sequence_length=config.sequence_length + 1,\n",
        "    standardize=spanish_standardize,\n",
        ")\n",
        "english_vectorization.adapt(list(data[\"english\"]))\n",
        "spanish_vectorization.adapt(list(data[\"spanish\"]))"
      ]
    },
    {
      "cell_type": "code",
      "execution_count": null,
      "id": "f04e5ac1",
      "metadata": {
        "execution": {
          "iopub.execute_input": "2023-05-04T17:23:50.747648Z",
          "iopub.status.busy": "2023-05-04T17:23:50.746194Z",
          "iopub.status.idle": "2023-05-04T17:23:50.753365Z",
          "shell.execute_reply": "2023-05-04T17:23:50.752578Z"
        },
        "id": "f04e5ac1",
        "papermill": {
          "duration": 0.016666,
          "end_time": "2023-05-04T17:23:50.755127",
          "exception": false,
          "start_time": "2023-05-04T17:23:50.738461",
          "status": "completed"
        },
        "tags": []
      },
      "outputs": [],
      "source": [
        "def preprocess(english, spanish):\n",
        "    return (english, spanish[:, :-1]), spanish[:, 1:]\n",
        "def make_dataset(df, batch_size, mode):\n",
        "    english = english_vectorization(list(df[\"english\"]))\n",
        "    spanish = spanish_vectorization(list(df[\"spanish\"]))\n",
        "    dataset = tf.data.Dataset.from_tensor_slices((english, spanish))\n",
        "    if mode == \"train\":\n",
        "       dataset = dataset.shuffle(256)\n",
        "    dataset = dataset.batch(batch_size)\n",
        "    dataset = dataset.map(preprocess)\n",
        "    dataset = dataset.take(len(df) // batch_size).cache().prefetch(16).repeat(1)\n",
        "    return dataset"
      ]
    },
    {
      "cell_type": "code",
      "execution_count": null,
      "id": "bf0bbe3f",
      "metadata": {
        "execution": {
          "iopub.execute_input": "2023-05-04T17:23:50.770137Z",
          "iopub.status.busy": "2023-05-04T17:23:50.768794Z",
          "iopub.status.idle": "2023-05-04T17:23:50.802384Z",
          "shell.execute_reply": "2023-05-04T17:23:50.801441Z"
        },
        "id": "bf0bbe3f",
        "outputId": "78037810-b274-42bc-d9ff-446a503b29ff",
        "papermill": {
          "duration": 0.042832,
          "end_time": "2023-05-04T17:23:50.804338",
          "exception": false,
          "start_time": "2023-05-04T17:23:50.761506",
          "status": "completed"
        },
        "tags": [],
        "colab": {
          "base_uri": "https://localhost:8080/"
        }
      },
      "outputs": [
        {
          "output_type": "execute_result",
          "data": {
            "text/plain": [
              "((101119, 2), (17845, 2))"
            ]
          },
          "metadata": {},
          "execution_count": 9
        }
      ],
      "source": [
        "train, valid = train_test_split(data, test_size=config.validation_split)\n",
        "train.shape, valid.shape"
      ]
    },
    {
      "cell_type": "code",
      "execution_count": null,
      "id": "9a29c9b6",
      "metadata": {
        "execution": {
          "iopub.execute_input": "2023-05-04T17:23:50.818916Z",
          "iopub.status.busy": "2023-05-04T17:23:50.818621Z",
          "iopub.status.idle": "2023-05-04T17:23:52.398642Z",
          "shell.execute_reply": "2023-05-04T17:23:52.397746Z"
        },
        "id": "9a29c9b6",
        "papermill": {
          "duration": 1.59015,
          "end_time": "2023-05-04T17:23:52.401375",
          "exception": false,
          "start_time": "2023-05-04T17:23:50.811225",
          "status": "completed"
        },
        "tags": []
      },
      "outputs": [],
      "source": [
        "train_ds = make_dataset(train, batch_size=config.batch_size, mode=\"train\")\n",
        "valid_ds = make_dataset(valid, batch_size=config.batch_size, mode=\"valid\")"
      ]
    },
    {
      "cell_type": "code",
      "execution_count": null,
      "id": "7f0e86b5",
      "metadata": {
        "execution": {
          "iopub.execute_input": "2023-05-04T17:23:52.416150Z",
          "iopub.status.busy": "2023-05-04T17:23:52.415856Z",
          "iopub.status.idle": "2023-05-04T17:23:52.468401Z",
          "shell.execute_reply": "2023-05-04T17:23:52.467402Z"
        },
        "id": "7f0e86b5",
        "outputId": "2ed21696-639f-4fd6-a8b3-e42e33369ef4",
        "papermill": {
          "duration": 0.06235,
          "end_time": "2023-05-04T17:23:52.470656",
          "exception": false,
          "start_time": "2023-05-04T17:23:52.408306",
          "status": "completed"
        },
        "tags": [],
        "colab": {
          "base_uri": "https://localhost:8080/"
        }
      },
      "outputs": [
        {
          "output_type": "stream",
          "name": "stdout",
          "text": [
            "((<tf.Tensor: shape=(64, 20), dtype=int64, numpy=\n",
            "array([[ 308,  152, 1063, ...,    0,    0,    0],\n",
            "       [3242,   19,  135, ...,    0,    0,    0],\n",
            "       [   5,  223, 6584, ...,    0,    0,    0],\n",
            "       ...,\n",
            "       [  27,   16,    4, ...,    0,    0,    0],\n",
            "       [ 159,   28, 2269, ...,    0,    0,    0],\n",
            "       [   9,   14,   33, ...,    0,    0,    0]])>, <tf.Tensor: shape=(64, 20), dtype=int64, numpy=\n",
            "array([[   2, 1417,  190, ...,    0,    0,    0],\n",
            "       [   2, 8972,   23, ...,    0,    0,    0],\n",
            "       [   2,   28, 1193, ...,    0,    0,    0],\n",
            "       ...,\n",
            "       [   2,  160,    5, ...,    0,    0,    0],\n",
            "       [   2,    1,   36, ...,    0,    0,    0],\n",
            "       [   2,   20,    7, ...,    0,    0,    0]])>), <tf.Tensor: shape=(64, 20), dtype=int64, numpy=\n",
            "array([[1417,  190,  134, ...,    0,    0,    0],\n",
            "       [8972,   23,  481, ...,    0,    0,    0],\n",
            "       [  28, 1193,   79, ...,    0,    0,    0],\n",
            "       ...,\n",
            "       [ 160,    5, 2062, ...,    0,    0,    0],\n",
            "       [   1,   36, 2789, ...,    0,    0,    0],\n",
            "       [  20,    7,   68, ...,    0,    0,    0]])>)\n"
          ]
        }
      ],
      "source": [
        "for batch in train_ds.take(1):\n",
        "    print(batch)"
      ]
    },
    {
      "cell_type": "markdown",
      "id": "e2cbccc8",
      "metadata": {
        "id": "e2cbccc8",
        "papermill": {
          "duration": 0.006566,
          "end_time": "2023-05-04T17:23:52.484317",
          "exception": false,
          "start_time": "2023-05-04T17:23:52.477751",
          "status": "completed"
        },
        "tags": []
      },
      "source": [
        "## Model Development"
      ]
    },
    {
      "cell_type": "markdown",
      "id": "f7f04c39",
      "metadata": {
        "id": "f7f04c39",
        "papermill": {
          "duration": 0.006267,
          "end_time": "2023-05-04T17:23:52.497214",
          "exception": false,
          "start_time": "2023-05-04T17:23:52.490947",
          "status": "completed"
        },
        "tags": []
      },
      "source": [
        "### The FNet Encoder"
      ]
    },
    {
      "cell_type": "code",
      "execution_count": null,
      "id": "ad6c3f5d",
      "metadata": {
        "execution": {
          "iopub.execute_input": "2023-05-04T17:23:52.512260Z",
          "iopub.status.busy": "2023-05-04T17:23:52.511323Z",
          "iopub.status.idle": "2023-05-04T17:23:52.528221Z",
          "shell.execute_reply": "2023-05-04T17:23:52.527353Z"
        },
        "id": "ad6c3f5d",
        "papermill": {
          "duration": 0.026565,
          "end_time": "2023-05-04T17:23:52.530308",
          "exception": false,
          "start_time": "2023-05-04T17:23:52.503743",
          "status": "completed"
        },
        "tags": []
      },
      "outputs": [],
      "source": [
        "class FNetEncoder(layers.Layer):\n",
        "    def __init__(self, embed_dim, dense_dim, **kwargs):\n",
        "        super(FNetEncoder, self).__init__(**kwargs)\n",
        "        self.embed_dim = embed_dim\n",
        "        self.dense_dim = dense_dim\n",
        "        self.dense_proj = keras.Sequential(\n",
        "            [\n",
        "                layers.Dense(dense_dim, activation=\"relu\"),\n",
        "                layers.Dense(embed_dim),\n",
        "            ]\n",
        "        )\n",
        "        self.layernorm_1 = layers.LayerNormalization()\n",
        "        self.layernorm_2 = layers.LayerNormalization()\n",
        "\n",
        "    def call(self, inputs):\n",
        "        # Casting the inputs to complex64\n",
        "        inp_complex = tf.cast(inputs, tf.complex64)\n",
        "        # Projecting the inputs to the frequency domain using FFT2D and\n",
        "        # extracting the real part of the output\n",
        "        fft = tf.math.real(tf.signal.fft2d(inp_complex))\n",
        "        proj_input = self.layernorm_1(inputs + fft)\n",
        "        proj_output = self.dense_proj(proj_input)\n",
        "        return self.layernorm_2(proj_input + proj_output)"
      ]
    },
    {
      "cell_type": "markdown",
      "id": "5dcc57a6",
      "metadata": {
        "id": "5dcc57a6",
        "papermill": {
          "duration": 0.006437,
          "end_time": "2023-05-04T17:23:52.543564",
          "exception": false,
          "start_time": "2023-05-04T17:23:52.537127",
          "status": "completed"
        },
        "tags": []
      },
      "source": [
        "### Positional Embedding"
      ]
    },
    {
      "cell_type": "code",
      "execution_count": null,
      "id": "dbda9ac1",
      "metadata": {
        "execution": {
          "iopub.execute_input": "2023-05-04T17:23:52.558115Z",
          "iopub.status.busy": "2023-05-04T17:23:52.557798Z",
          "iopub.status.idle": "2023-05-04T17:23:52.564666Z",
          "shell.execute_reply": "2023-05-04T17:23:52.563637Z"
        },
        "id": "dbda9ac1",
        "papermill": {
          "duration": 0.016627,
          "end_time": "2023-05-04T17:23:52.566822",
          "exception": false,
          "start_time": "2023-05-04T17:23:52.550195",
          "status": "completed"
        },
        "tags": []
      },
      "outputs": [],
      "source": [
        "class PositionalEmbedding(layers.Layer):\n",
        "    def __init__(self, sequence_length, vocab_size, embed_dim, **kwargs):\n",
        "        super(PositionalEmbedding, self).__init__(**kwargs)\n",
        "        self.token_embeddings = layers.Embedding(\n",
        "            input_dim=vocab_size, output_dim=embed_dim\n",
        "        )\n",
        "        self.position_embeddings = layers.Embedding(\n",
        "            input_dim=sequence_length, output_dim=embed_dim\n",
        "        )\n",
        "        self.sequence_length = sequence_length\n",
        "        self.vocab_size = vocab_size\n",
        "        self.embed_dim = embed_dim\n",
        "\n",
        "    def call(self, inputs):\n",
        "        length = tf.shape(inputs)[-1]\n",
        "        positions = tf.range(start=0, limit=length, delta=1)\n",
        "        embedded_tokens = self.token_embeddings(inputs)\n",
        "        embedded_positions = self.position_embeddings(positions)\n",
        "        return embedded_tokens + embedded_positions\n",
        "\n",
        "    def compute_mask(self, inputs, mask=None):\n",
        "        return tf.math.not_equal(inputs, 0)\n"
      ]
    },
    {
      "cell_type": "markdown",
      "id": "b1126e14",
      "metadata": {
        "id": "b1126e14",
        "papermill": {
          "duration": 0.006346,
          "end_time": "2023-05-04T17:23:52.579765",
          "exception": false,
          "start_time": "2023-05-04T17:23:52.573419",
          "status": "completed"
        },
        "tags": []
      },
      "source": [
        "### FNet Decoder"
      ]
    },
    {
      "cell_type": "code",
      "execution_count": null,
      "id": "44cd29cc",
      "metadata": {
        "execution": {
          "iopub.execute_input": "2023-05-04T17:23:52.594517Z",
          "iopub.status.busy": "2023-05-04T17:23:52.594209Z",
          "iopub.status.idle": "2023-05-04T17:23:52.605225Z",
          "shell.execute_reply": "2023-05-04T17:23:52.604360Z"
        },
        "id": "44cd29cc",
        "papermill": {
          "duration": 0.020773,
          "end_time": "2023-05-04T17:23:52.607016",
          "exception": false,
          "start_time": "2023-05-04T17:23:52.586243",
          "status": "completed"
        },
        "tags": []
      },
      "outputs": [],
      "source": [
        "class FNetDecoder(layers.Layer):\n",
        "    def __init__(self, embed_dim, latent_dim, num_heads, **kwargs):\n",
        "        super(FNetDecoder, self).__init__(**kwargs)\n",
        "        self.embed_dim = embed_dim\n",
        "        self.latent_dim = latent_dim\n",
        "        self.num_heads = num_heads\n",
        "        self.attention_1 = layers.MultiHeadAttention(\n",
        "            num_heads=num_heads,\n",
        "            key_dim=embed_dim\n",
        "        )\n",
        "        self.attention_2 = layers.MultiHeadAttention(\n",
        "            num_heads=num_heads,\n",
        "            key_dim=embed_dim\n",
        "        )\n",
        "        self.dense_proj = keras.Sequential([\n",
        "            layers.Dense(latent_dim, activation=\"relu\"),\n",
        "            layers.Dense(embed_dim),\n",
        "        ])\n",
        "        self.layernorm_1 = layers.LayerNormalization()\n",
        "        self.layernorm_2 = layers.LayerNormalization()\n",
        "        self.layernorm_3 = layers.LayerNormalization()\n",
        "        self.supports_masking = True\n",
        "\n",
        "    def call(self, inputs, encoder_outputs, mask = None):\n",
        "        causal_mask = self.get_causal_attention_mask(inputs)\n",
        "        if mask != None:\n",
        "            padding_mask = tf.cast(mask[:, tf.newaxis, :], dtype=\"int32\")\n",
        "            padding_mask = tf.minimum(padding_mask, causal_mask)\n",
        "\n",
        "        attention_output_1 = self.attention_1(\n",
        "            query=inputs,\n",
        "            value=inputs,\n",
        "            key=inputs,\n",
        "            attention_mask=causal_mask\n",
        "        )\n",
        "\n",
        "        out_1 = self.layernorm_1(inputs + attention_output_1)\n",
        "\n",
        "        attention_output_2 = self.attention_2(\n",
        "            query=out_1,\n",
        "            value=encoder_outputs,\n",
        "            key=encoder_outputs,\n",
        "            attention_mask=padding_mask\n",
        "        )\n",
        "\n",
        "        out_2 = self.layernorm_2(out_1 + attention_output_2)\n",
        "\n",
        "        proj_output = self.dense_proj(out_2)\n",
        "\n",
        "        return self.layernorm_3(out_2 + proj_output)\n",
        "\n",
        "    def get_causal_attention_mask(self, inputs):\n",
        "        input_shape = tf.shape(inputs)\n",
        "        batch_size, sequence_length = input_shape[0], input_shape[1]\n",
        "        i = tf.range(sequence_length)[:, tf.newaxis]\n",
        "        j = tf.range(sequence_length)\n",
        "        mask = tf.cast(i >= j, dtype=\"int32\")\n",
        "        mask = tf.reshape(mask, (1, input_shape[1], input_shape[1]))\n",
        "        mult = tf.concat(\n",
        "            [tf.expand_dims(batch_size, -1), tf.constant([1, 1], dtype=tf.int32)],\n",
        "            axis=0\n",
        "        )\n",
        "        return tf.tile(mask, mult)"
      ]
    },
    {
      "cell_type": "markdown",
      "id": "c26491ad",
      "metadata": {
        "id": "c26491ad",
        "papermill": {
          "duration": 0.006535,
          "end_time": "2023-05-04T17:23:52.620173",
          "exception": false,
          "start_time": "2023-05-04T17:23:52.613638",
          "status": "completed"
        },
        "tags": []
      },
      "source": [
        "### The FNet Model"
      ]
    },
    {
      "cell_type": "code",
      "execution_count": null,
      "id": "a0f2983b",
      "metadata": {
        "execution": {
          "iopub.execute_input": "2023-05-04T17:23:52.634359Z",
          "iopub.status.busy": "2023-05-04T17:23:52.634076Z",
          "iopub.status.idle": "2023-05-04T17:23:52.641164Z",
          "shell.execute_reply": "2023-05-04T17:23:52.640181Z"
        },
        "id": "a0f2983b",
        "papermill": {
          "duration": 0.01646,
          "end_time": "2023-05-04T17:23:52.643195",
          "exception": false,
          "start_time": "2023-05-04T17:23:52.626735",
          "status": "completed"
        },
        "tags": []
      },
      "outputs": [],
      "source": [
        "def get_fnet(config):\n",
        "    encoder_inputs = keras.Input(shape=(None,), dtype=\"int64\", name=\"encoder_inputs\")\n",
        "    x = PositionalEmbedding(config.sequence_length, config.vocab_size, config.embed_dim)(encoder_inputs)\n",
        "    encoder_outputs = FNetEncoder(config.embed_dim, config.latent_dim)(x)\n",
        "    encoder = keras.Model(encoder_inputs, encoder_outputs)\n",
        "\n",
        "    decoder_inputs = keras.Input(shape=(None,), dtype=\"int64\", name=\"decoder_inputs\")\n",
        "    encoded_seq_inputs = keras.Input(shape=(None, config.embed_dim), name=\"decoder_state_inputs\")\n",
        "    x = PositionalEmbedding(config.sequence_length, config.vocab_size, config.embed_dim)(decoder_inputs)\n",
        "    x = FNetDecoder(config.embed_dim, config.latent_dim, config.num_heads)(x, encoded_seq_inputs)\n",
        "    x = layers.Dropout(0.5)(x)\n",
        "    decoder_outputs = layers.Dense(config.vocab_size, activation=\"softmax\")(x)\n",
        "    decoder = keras.Model([decoder_inputs, encoded_seq_inputs], decoder_outputs, name=\"outputs\")\n",
        "\n",
        "    decoder_outputs = decoder([decoder_inputs, encoder_outputs])\n",
        "    fnet = keras.Model(\n",
        "        [encoder_inputs, decoder_inputs], decoder_outputs, name=\"fnet\"\n",
        "    )\n",
        "    return fnet"
      ]
    },
    {
      "cell_type": "code",
      "execution_count": null,
      "id": "cf3a2f64",
      "metadata": {
        "execution": {
          "iopub.execute_input": "2023-05-04T17:23:52.657223Z",
          "iopub.status.busy": "2023-05-04T17:23:52.656950Z",
          "iopub.status.idle": "2023-05-04T17:23:53.780242Z",
          "shell.execute_reply": "2023-05-04T17:23:53.779329Z"
        },
        "id": "cf3a2f64",
        "papermill": {
          "duration": 1.132939,
          "end_time": "2023-05-04T17:23:53.782521",
          "exception": false,
          "start_time": "2023-05-04T17:23:52.649582",
          "status": "completed"
        },
        "tags": []
      },
      "outputs": [],
      "source": [
        "fnet = get_fnet(config)"
      ]
    },
    {
      "cell_type": "code",
      "execution_count": null,
      "id": "7bd578c1",
      "metadata": {
        "execution": {
          "iopub.execute_input": "2023-05-04T17:23:53.797685Z",
          "iopub.status.busy": "2023-05-04T17:23:53.797391Z",
          "iopub.status.idle": "2023-05-04T17:23:53.825437Z",
          "shell.execute_reply": "2023-05-04T17:23:53.824560Z"
        },
        "id": "7bd578c1",
        "outputId": "f3aa81cc-2202-4d36-c7c4-a76a6a5c2ae0",
        "papermill": {
          "duration": 0.042873,
          "end_time": "2023-05-04T17:23:53.832548",
          "exception": false,
          "start_time": "2023-05-04T17:23:53.789675",
          "status": "completed"
        },
        "tags": [],
        "colab": {
          "base_uri": "https://localhost:8080/"
        }
      },
      "outputs": [
        {
          "output_type": "stream",
          "name": "stdout",
          "text": [
            "Model: \"fnet\"\n",
            "__________________________________________________________________________________________________\n",
            " Layer (type)                Output Shape                 Param #   Connected to                  \n",
            "==================================================================================================\n",
            " encoder_inputs (InputLayer  [(None, None)]               0         []                            \n",
            " )                                                                                                \n",
            "                                                                                                  \n",
            " positional_embedding (Posi  (None, None, 256)            3845120   ['encoder_inputs[0][0]']      \n",
            " tionalEmbedding)                                                                                 \n",
            "                                                                                                  \n",
            " decoder_inputs (InputLayer  [(None, None)]               0         []                            \n",
            " )                                                                                                \n",
            "                                                                                                  \n",
            " f_net_encoder (FNetEncoder  (None, None, 256)            132608    ['positional_embedding[0][0]']\n",
            " )                                                                                                \n",
            "                                                                                                  \n",
            " outputs (Functional)        (None, None, 15000)          8885400   ['decoder_inputs[0][0]',      \n",
            "                                                                     'f_net_encoder[0][0]']       \n",
            "                                                                                                  \n",
            "==================================================================================================\n",
            "Total params: 12863128 (49.07 MB)\n",
            "Trainable params: 12863128 (49.07 MB)\n",
            "Non-trainable params: 0 (0.00 Byte)\n",
            "__________________________________________________________________________________________________\n"
          ]
        }
      ],
      "source": [
        "fnet.summary()"
      ]
    },
    {
      "cell_type": "markdown",
      "id": "da2d5730",
      "metadata": {
        "id": "da2d5730",
        "papermill": {
          "duration": 0.007365,
          "end_time": "2023-05-04T17:23:53.847683",
          "exception": false,
          "start_time": "2023-05-04T17:23:53.840318",
          "status": "completed"
        },
        "tags": []
      },
      "source": [
        "Let's visualize the Model."
      ]
    },
    {
      "cell_type": "code",
      "execution_count": null,
      "id": "4d00c9b3",
      "metadata": {
        "execution": {
          "iopub.execute_input": "2023-05-04T17:23:53.864248Z",
          "iopub.status.busy": "2023-05-04T17:23:53.863911Z",
          "iopub.status.idle": "2023-05-04T17:23:54.013725Z",
          "shell.execute_reply": "2023-05-04T17:23:54.012718Z"
        },
        "id": "4d00c9b3",
        "outputId": "ea962ceb-e0dc-4128-88b0-a47aa3266980",
        "papermill": {
          "duration": 0.162393,
          "end_time": "2023-05-04T17:23:54.017664",
          "exception": false,
          "start_time": "2023-05-04T17:23:53.855271",
          "status": "completed"
        },
        "tags": [],
        "colab": {
          "base_uri": "https://localhost:8080/",
          "height": 422
        }
      },
      "outputs": [
        {
          "output_type": "execute_result",
          "data": {
            "image/png": "[encoded data removed]",
            "text/plain": [
              "<IPython.core.display.Image object>"
            ]
          },
          "metadata": {},
          "execution_count": 18
        }
      ],
      "source": [
        "keras.utils.plot_model(fnet, show_shapes=True)"
      ]
    },
    {
      "cell_type": "markdown",
      "id": "07d2057b",
      "metadata": {
        "id": "07d2057b",
        "papermill": {
          "duration": 0.008685,
          "end_time": "2023-05-04T17:23:54.042120",
          "exception": false,
          "start_time": "2023-05-04T17:23:54.033435",
          "status": "completed"
        },
        "tags": []
      },
      "source": [
        "### Model Training\n"
      ]
    },
    {
      "cell_type": "code",
      "execution_count": null,
      "id": "954e8323",
      "metadata": {
        "execution": {
          "iopub.execute_input": "2023-05-04T17:23:54.060003Z",
          "iopub.status.busy": "2023-05-04T17:23:54.059632Z",
          "iopub.status.idle": "2023-05-04T17:23:54.076991Z",
          "shell.execute_reply": "2023-05-04T17:23:54.076142Z"
        },
        "id": "954e8323",
        "papermill": {
          "duration": 0.028601,
          "end_time": "2023-05-04T17:23:54.078904",
          "exception": false,
          "start_time": "2023-05-04T17:23:54.050303",
          "status": "completed"
        },
        "tags": []
      },
      "outputs": [],
      "source": [
        "fnet.compile(\n",
        "    \"adam\", loss=\"sparse_categorical_crossentropy\", metrics=[\"accuracy\"]\n",
        ")"
      ]
    },
    {
      "cell_type": "markdown",
      "id": "13edf0ac",
      "metadata": {
        "papermill": {
          "duration": 0.007954,
          "end_time": "2023-05-04T17:23:54.095185",
          "exception": false,
          "start_time": "2023-05-04T17:23:54.087231",
          "status": "completed"
        },
        "tags": [],
        "id": "13edf0ac"
      },
      "source": [
        "I have pretrained the Model. You may use it to speedup the training."
      ]
    },
    {
      "cell_type": "code",
      "execution_count": null,
      "id": "36163b14",
      "metadata": {
        "execution": {
          "iopub.execute_input": "2023-05-04T17:23:54.125193Z",
          "iopub.status.busy": "2023-05-04T17:23:54.124861Z",
          "iopub.status.idle": "2023-05-04T17:38:09.627502Z",
          "shell.execute_reply": "2023-05-04T17:38:09.626576Z"
        },
        "id": "36163b14",
        "outputId": "86c62561-9504-4956-b743-425833860dcf",
        "papermill": {
          "duration": 855.519471,
          "end_time": "2023-05-04T17:38:09.629875",
          "exception": false,
          "start_time": "2023-05-04T17:23:54.110404",
          "status": "completed"
        },
        "tags": [],
        "colab": {
          "base_uri": "https://localhost:8080/"
        }
      },
      "outputs": [
        {
          "output_type": "stream",
          "name": "stdout",
          "text": [
            "Epoch 1/10\n"
          ]
        },
        {
          "output_type": "stream",
          "name": "stderr",
          "text": [
            "WARNING:tensorflow:You are casting an input of type complex64 to an incompatible dtype float32.  This will discard the imaginary part and may not be what you intended.\n",
            "WARNING:tensorflow:You are casting an input of type complex64 to an incompatible dtype float32.  This will discard the imaginary part and may not be what you intended.\n"
          ]
        },
        {
          "output_type": "stream",
          "name": "stdout",
          "text": [
            "1579/1579 [==============================] - 91s 52ms/step - loss: 3.6484 - accuracy: 0.4328 - val_loss: 2.5977 - val_accuracy: 0.5505 - lr: 0.0010\n",
            "Epoch 2/10\n",
            "1579/1579 [==============================] - 69s 44ms/step - loss: 2.3963 - accuracy: 0.5713 - val_loss: 2.0753 - val_accuracy: 0.6187 - lr: 0.0010\n",
            "Epoch 3/10\n",
            "1579/1579 [==============================] - 69s 44ms/step - loss: 1.8805 - accuracy: 0.6342 - val_loss: 1.8773 - val_accuracy: 0.6453 - lr: 0.0010\n",
            "Epoch 4/10\n",
            "1579/1579 [==============================] - 69s 44ms/step - loss: 1.5784 - accuracy: 0.6726 - val_loss: 1.7985 - val_accuracy: 0.6589 - lr: 0.0010\n",
            "Epoch 5/10\n",
            "1579/1579 [==============================] - 73s 46ms/step - loss: 1.3769 - accuracy: 0.7020 - val_loss: 1.7810 - val_accuracy: 0.6636 - lr: 0.0010\n",
            "Epoch 6/10\n",
            "1579/1579 [==============================] - 69s 44ms/step - loss: 1.2354 - accuracy: 0.7231 - val_loss: 1.7632 - val_accuracy: 0.6692 - lr: 0.0010\n",
            "Epoch 7/10\n",
            "1579/1579 [==============================] - 69s 44ms/step - loss: 1.1284 - accuracy: 0.7408 - val_loss: 1.7458 - val_accuracy: 0.6716 - lr: 0.0010\n",
            "Epoch 8/10\n",
            "1579/1579 [==============================] - 72s 46ms/step - loss: 1.0439 - accuracy: 0.7558 - val_loss: 1.7694 - val_accuracy: 0.6720 - lr: 0.0010\n",
            "Epoch 9/10\n",
            "1579/1579 [==============================] - 69s 44ms/step - loss: 0.9796 - accuracy: 0.7676 - val_loss: 1.7977 - val_accuracy: 0.6751 - lr: 0.0010\n",
            "Epoch 10/10\n",
            "1579/1579 [==============================] - 69s 44ms/step - loss: 0.9222 - accuracy: 0.7786 - val_loss: 1.8272 - val_accuracy: 0.6732 - lr: 0.0010\n"
          ]
        }
      ],
      "source": [
        "checkpoint = keras.callbacks.ModelCheckpoint(config.model_path, save_weights_only=True, save_best_only=True)\n",
        "early_stopping = keras.callbacks.EarlyStopping(patience=5)\n",
        "reduce_lr = keras.callbacks.ReduceLROnPlateau(patience=5, min_delta=1e-4, min_lr=1e-4)\n",
        "if config.use_pretrained_model:\n",
        "    model_path = keras.utils.get_file(config.model_path, \"https://github.com/LoniQin/English-Spanish-Transaltion-FNet/raw/main/\" + config.model_path)\n",
        "    fnet.load_weights(model_path)\n",
        "    fnet.fit(train_ds.take(100), epochs=1, validation_data=valid_ds.take(10), callbacks=[checkpoint, reduce_lr])\n",
        "else:\n",
        "    fnet.fit(train_ds, epochs=config.epochs, validation_data=valid_ds, callbacks=[checkpoint, reduce_lr])"
      ]
    },
    {
      "cell_type": "markdown",
      "id": "1925d184",
      "metadata": {
        "id": "1925d184",
        "papermill": {
          "duration": 0.485211,
          "end_time": "2023-05-04T17:38:10.548008",
          "exception": false,
          "start_time": "2023-05-04T17:38:10.062797",
          "status": "completed"
        },
        "tags": []
      },
      "source": [
        "## Translation\n"
      ]
    },
    {
      "cell_type": "code",
      "execution_count": null,
      "id": "84432c41",
      "metadata": {
        "execution": {
          "iopub.execute_input": "2023-05-04T17:38:11.407163Z",
          "iopub.status.busy": "2023-05-04T17:38:11.406807Z",
          "iopub.status.idle": "2023-05-04T17:38:11.439440Z",
          "shell.execute_reply": "2023-05-04T17:38:11.438552Z"
        },
        "id": "84432c41",
        "papermill": {
          "duration": 0.467687,
          "end_time": "2023-05-04T17:38:11.441620",
          "exception": false,
          "start_time": "2023-05-04T17:38:10.973933",
          "status": "completed"
        },
        "tags": []
      },
      "outputs": [],
      "source": [
        "spanish_vocab = spanish_vectorization.get_vocabulary()\n",
        "spanish_index_lookup = dict(zip(range(len(spanish_vocab)), spanish_vocab))\n",
        "def decode_sequence(fnet, input_sentence):\n",
        "    tokenized_input_sentence = english_vectorization([input_sentence])\n",
        "    decoded_sentence = config.begin_token\n",
        "    for i in range(config.sequence_length):\n",
        "        tokenized_target_sentence = spanish_vectorization([decoded_sentence])[:, :-1]\n",
        "        predictions = fnet([tokenized_input_sentence, tokenized_target_sentence])\n",
        "\n",
        "        sampled_token_index = np.argmax(predictions[0, i, :])\n",
        "        sampled_token = spanish_index_lookup[sampled_token_index]\n",
        "        decoded_sentence += \" \" + sampled_token\n",
        "\n",
        "        if sampled_token == config.end_token:\n",
        "            break\n",
        "    return decoded_sentence"
      ]
    },
    {
      "cell_type": "code",
      "execution_count": null,
      "id": "067eba3b",
      "metadata": {
        "execution": {
          "iopub.execute_input": "2023-05-04T17:38:12.356753Z",
          "iopub.status.busy": "2023-05-04T17:38:12.356248Z",
          "iopub.status.idle": "2023-05-04T17:38:16.099018Z",
          "shell.execute_reply": "2023-05-04T17:38:16.098188Z"
        },
        "id": "067eba3b",
        "papermill": {
          "duration": 4.177798,
          "end_time": "2023-05-04T17:38:16.101641",
          "exception": false,
          "start_time": "2023-05-04T17:38:11.923843",
          "status": "completed"
        },
        "tags": [],
        "colab": {
          "base_uri": "https://localhost:8080/"
        },
        "outputId": "6ff3b5a8-ef8a-49ef-922d-8207279a86ab"
      },
      "outputs": [
        {
          "output_type": "stream",
          "name": "stdout",
          "text": [
            "English: You are the best.\n",
            "Spanish: [start] Usted es la mejor. [end]\n",
            "Translated: [start] eres lo mejor [end]\n",
            "English: I can't get my shoes off.\n",
            "Spanish: [start] No puedo quitarme los zapatos. [end]\n",
            "Translated: [start] no puedo quitarme los zapatos [end]\n",
            "English: My grandmother was sent to a hospital in Germany.\n",
            "Spanish: [start] Enviaron a mi abuela a un hospital en Alemania. [end]\n",
            "Translated: [start] enviaron a un hospital a mi abuela en alemania [end]\n",
            "English: How often and how much should I feed my dog?\n",
            "Spanish: [start] ¿Qué tan a menudo y con cuánto debería alimentar a mi perro? [end]\n",
            "Translated: [start] qué y cuánto deberían comer a menudo lo [UNK] [end]\n",
            "English: Show me what you have in your left hand.\n",
            "Spanish: [start] Muéstrame qué tienes en tu mano izquierda. [end]\n",
            "Translated: [start] qué me puedes mostrar en la mano [end]\n",
            "English: You drank too much.\n",
            "Spanish: [start] Tú tomaste demasiado. [end]\n",
            "Translated: [start] has bebido demasiado [end]\n",
            "English: Her skirt is yellow with polka dots.\n",
            "Spanish: [start] Su falda es amarilla con lunares. [end]\n",
            "Translated: [start] su falda es amarilla con lunares [end]\n",
            "English: I was tired from doing my homework.\n",
            "Spanish: [start] Estaba harto de hacer los deberes. [end]\n",
            "Translated: [start] estaba cansado de hacer mis deberes [end]\n",
            "English: My uncle is thin, but my aunt is fat.\n",
            "Spanish: [start] Mi tío está delgado, pero mi tía está gorda. [end]\n",
            "Translated: [start] mi tío es muy delgado pero mi tía está gorda [end]\n",
            "English: She was advised by him to go to the police.\n",
            "Spanish: [start] Él le aconsejó que fuera a la policía. [end]\n",
            "Translated: [start] le aconsejaron que fuera a la policía [end]\n"
          ]
        }
      ],
      "source": [
        "fnet.load_weights(config.model_path)\n",
        "for i in np.random.choice(len(data), 10):\n",
        "    item = data.iloc[i]\n",
        "    translated = decode_sequence(fnet, item[\"english\"])\n",
        "    print(\"English:\", item[\"english\"])\n",
        "    print(\"Spanish:\", item[\"spanish\"])\n",
        "    print(\"Translated:\", translated)"
      ]
    },
    {
      "cell_type": "markdown",
      "id": "da21c297",
      "metadata": {
        "id": "da21c297",
        "papermill": {
          "duration": 0.585117,
          "end_time": "2023-05-04T17:38:17.359255",
          "exception": false,
          "start_time": "2023-05-04T17:38:16.774138",
          "status": "completed"
        },
        "tags": []
      },
      "source": [
        "## References\n",
        "- [FNet: Mixing Tokens with Fourier Transforms](https://arxiv.org/abs/2105.03824v3)\n",
        "- [Attention Is All You Need](https://arxiv.org/abs/1706.03762v5)\n",
        "- [Text Generation using FNet](https://keras.io/examples/nlp/text_generation_fnet/)\n"
      ]
    }
  ],
  "metadata": {
    "kernelspec": {
      "display_name": "Python 3",
      "name": "python3"
    },
    "language_info": {
      "codemirror_mode": {
        "name": "ipython",
        "version": 3
      },
      "file_extension": ".py",
      "mimetype": "text/x-python",
      "name": "python",
      "nbconvert_exporter": "python",
      "pygments_lexer": "ipython3",
      "version": "3.10.10"
    },
    "papermill": {
      "default_parameters": {},
      "duration": 907.1236,
      "end_time": "2023-05-04T17:38:21.527285",
      "environment_variables": {},
      "exception": null,
      "input_path": "__notebook__.ipynb",
      "output_path": "__notebook__.ipynb",
      "parameters": {},
      "start_time": "2023-05-04T17:23:14.403685",
      "version": "2.4.0"
    },
    "colab": {
      "provenance": [],
      "gpuType": "T4"
    },
    "accelerator": "GPU"
  },
  "nbformat": 4,
  "nbformat_minor": 5
}