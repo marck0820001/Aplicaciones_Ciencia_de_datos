{
  "nbformat": 4,
  "nbformat_minor": 0,
  "metadata": {
    "colab": {
      "provenance": [],
      "gpuType": "T4"
    },
    "kernelspec": {
      "name": "python3",
      "display_name": "Python 3"
    },
    "language_info": {
      "name": "python"
    },
    "accelerator": "GPU"
  },
  "cells": [
    {
      "cell_type": "code",
      "execution_count": 1,
      "metadata": {
        "colab": {
          "base_uri": "https://localhost:8080/"
        },
        "id": "VQ_1epwbpxje",
        "outputId": "a5407e4d-8243-400a-841b-a9a097e2680f"
      },
      "outputs": [
        {
          "output_type": "stream",
          "name": "stdout",
          "text": [
            "Requirement already satisfied: matplotlib in /usr/local/lib/python3.10/dist-packages (3.7.1)\n",
            "Requirement already satisfied: scikit-learn in /usr/local/lib/python3.10/dist-packages (1.2.2)\n",
            "Requirement already satisfied: contourpy>=1.0.1 in /usr/local/lib/python3.10/dist-packages (from matplotlib) (1.2.1)\n",
            "Requirement already satisfied: cycler>=0.10 in /usr/local/lib/python3.10/dist-packages (from matplotlib) (0.12.1)\n",
            "Requirement already satisfied: fonttools>=4.22.0 in /usr/local/lib/python3.10/dist-packages (from matplotlib) (4.53.0)\n",
            "Requirement already satisfied: kiwisolver>=1.0.1 in /usr/local/lib/python3.10/dist-packages (from matplotlib) (1.4.5)\n",
            "Requirement already satisfied: numpy>=1.20 in /usr/local/lib/python3.10/dist-packages (from matplotlib) (1.25.2)\n",
            "Requirement already satisfied: packaging>=20.0 in /usr/local/lib/python3.10/dist-packages (from matplotlib) (24.1)\n",
            "Requirement already satisfied: pillow>=6.2.0 in /usr/local/lib/python3.10/dist-packages (from matplotlib) (9.4.0)\n",
            "Requirement already satisfied: pyparsing>=2.3.1 in /usr/local/lib/python3.10/dist-packages (from matplotlib) (3.1.2)\n",
            "Requirement already satisfied: python-dateutil>=2.7 in /usr/local/lib/python3.10/dist-packages (from matplotlib) (2.8.2)\n",
            "Requirement already satisfied: scipy>=1.3.2 in /usr/local/lib/python3.10/dist-packages (from scikit-learn) (1.11.4)\n",
            "Requirement already satisfied: joblib>=1.1.1 in /usr/local/lib/python3.10/dist-packages (from scikit-learn) (1.4.2)\n",
            "Requirement already satisfied: threadpoolctl>=2.0.0 in /usr/local/lib/python3.10/dist-packages (from scikit-learn) (3.5.0)\n",
            "Requirement already satisfied: six>=1.5 in /usr/local/lib/python3.10/dist-packages (from python-dateutil>=2.7->matplotlib) (1.16.0)\n"
          ]
        }
      ],
      "source": [
        "!pip install matplotlib scikit-learn"
      ]
    },
    {
      "cell_type": "code",
      "source": [
        "import pandas as pd\n",
        "import tensorflow as tf\n",
        "from tensorflow.keras.layers import TextVectorization\n",
        "import pathlib\n",
        "import random\n",
        "import string\n",
        "import re\n",
        "import numpy as np\n",
        "from tensorflow import keras\n",
        "from tensorflow.keras import layers\n",
        "from sklearn.model_selection import train_test_split\n",
        "import matplotlib.pyplot as plt\n",
        "from sklearn.metrics import confusion_matrix, ConfusionMatrixDisplay\n",
        "import datetime\n",
        "print(f\"Tensorflow Version: {tf.__version__}\")"
      ],
      "metadata": {
        "colab": {
          "base_uri": "https://localhost:8080/"
        },
        "id": "sfUwms4ip92H",
        "outputId": "7f24598f-e09b-4496-ba37-0f6d8f3d6a65"
      },
      "execution_count": 15,
      "outputs": [
        {
          "output_type": "stream",
          "name": "stdout",
          "text": [
            "Tensorflow Version: 2.15.0\n"
          ]
        }
      ]
    },
    {
      "cell_type": "code",
      "source": [
        "class Config:\n",
        "    vocab_size = 16000 # Vocabulary Size\n",
        "    sequence_length = 20\n",
        "    batch_size = 512\n",
        "    validation_split = 0.15\n",
        "    embed_dim = 256\n",
        "    latent_dim = 256\n",
        "    num_heads = 4\n",
        "    epochs = 30 # Number of Epochs to train\n",
        "    is_training = False\n",
        "\n",
        "config = Config()"
      ],
      "metadata": {
        "id": "WwN065Y9qJsl"
      },
      "execution_count": 3,
      "outputs": []
    },
    {
      "cell_type": "code",
      "source": [
        "!gdown https://drive.google.com/file/d/1muYCUnsqg8eb8W2nsy94ezCfBPd_hcPx/view?usp=sharing --fuzzy -O data.csv"
      ],
      "metadata": {
        "colab": {
          "base_uri": "https://localhost:8080/"
        },
        "id": "D6EZKBrkqNA8",
        "outputId": "cf35c902-7951-4bf6-b354-56f232a04a09"
      },
      "execution_count": 4,
      "outputs": [
        {
          "output_type": "stream",
          "name": "stdout",
          "text": [
            "Downloading...\n",
            "From: https://drive.google.com/uc?id=1muYCUnsqg8eb8W2nsy94ezCfBPd_hcPx\n",
            "To: /content/data.csv\n",
            "100% 8.07M/8.07M [00:00<00:00, 45.2MB/s]\n"
          ]
        }
      ]
    },
    {
      "cell_type": "code",
      "source": [
        "data = pd.read_csv(\"data.csv\")\n",
        "data[\"spanish\"] = data[\"spanish\"].apply(lambda item: \"[start] \" + item + \" [end]\")"
      ],
      "metadata": {
        "id": "95mstNCBqSmv"
      },
      "execution_count": 5,
      "outputs": []
    },
    {
      "cell_type": "code",
      "source": [
        "strip_chars = string.punctuation + \"¿\"\n",
        "strip_chars = strip_chars.replace(\"[\", \"\").replace(\"]\", \"\")"
      ],
      "metadata": {
        "id": "IrRXIT9SqVJW"
      },
      "execution_count": 6,
      "outputs": []
    },
    {
      "cell_type": "code",
      "source": [
        "def spanish_standardize(input_string):\n",
        "    lowercase = tf.strings.lower(input_string)\n",
        "    return tf.strings.regex_replace(lowercase, \"[%s]\"%re.escape(strip_chars), \"\")\n",
        "\n",
        "english_vectorization = TextVectorization(\n",
        "    max_tokens=config.vocab_size,\n",
        "    output_mode=\"int\",\n",
        "    output_sequence_length=config.sequence_length,\n",
        ")\n",
        "spanish_vectorization = TextVectorization(\n",
        "    max_tokens=config.vocab_size,\n",
        "    output_mode=\"int\",\n",
        "    output_sequence_length=config.sequence_length + 1,\n",
        "    standardize=spanish_standardize,\n",
        ")\n",
        "english_vectorization.adapt(list(data[\"english\"]))\n",
        "spanish_vectorization.adapt(list(data[\"spanish\"]))"
      ],
      "metadata": {
        "id": "q3666fxaqX3m"
      },
      "execution_count": 7,
      "outputs": []
    },
    {
      "cell_type": "code",
      "source": [
        "def preprocess(english, spanish):\n",
        "    english = english_vectorization(english)\n",
        "    spanish = spanish_vectorization(spanish)\n",
        "    return ({\"encoder_inputs\": english, \"decoder_inputs\": spanish[:, :-1]}, spanish[:, 1:])\n",
        "\n",
        "def make_dataset(df, batch_size, mode):\n",
        "    dataset = tf.data.Dataset.from_tensor_slices((list(df[\"english\"]), list(df[\"spanish\"])))\n",
        "    if mode == \"train\":\n",
        "       dataset = dataset.shuffle(batch_size * 4)\n",
        "    dataset = dataset.batch(batch_size)\n",
        "    dataset = dataset.map(preprocess)\n",
        "    dataset = dataset.prefetch(tf.data.AUTOTUNE).cache()\n",
        "    return dataset"
      ],
      "metadata": {
        "id": "gkRTIXHIqdx-"
      },
      "execution_count": 8,
      "outputs": []
    },
    {
      "cell_type": "code",
      "source": [
        "train, valid = train_test_split(data, test_size=config.validation_split, random_state=42)\n",
        "train_ds = make_dataset(train, batch_size=config.batch_size, mode=\"train\")\n",
        "valid_ds = make_dataset(valid, batch_size=config.batch_size, mode=\"valid\")\n"
      ],
      "metadata": {
        "id": "3jL0XNdrqg-m"
      },
      "execution_count": 9,
      "outputs": []
    },
    {
      "cell_type": "code",
      "source": [
        "class TransformerEncoder(layers.Layer):\n",
        "    def __init__(self, embed_dim, num_heads, ff_dim, rate=0.1, **kwargs):\n",
        "        super(TransformerEncoder, self).__init__(**kwargs)\n",
        "        self.att = keras.layers.MultiHeadAttention(\n",
        "            num_heads=num_heads, key_dim=embed_dim\n",
        "        )\n",
        "        self.ffn = keras.Sequential(\n",
        "            [\n",
        "                keras.layers.Dense(ff_dim, activation=\"relu\"),\n",
        "                keras.layers.Dense(embed_dim),\n",
        "            ]\n",
        "        )\n",
        "        self.layernorm1 = keras.layers.LayerNormalization(epsilon=1e-6)\n",
        "        self.layernorm2 = keras.layers.LayerNormalization(epsilon=1e-6)\n",
        "        self.dropout1 = keras.layers.Dropout(rate)\n",
        "        self.dropout2 = keras.layers.Dropout(rate)\n",
        "\n",
        "    def call(self, inputs, training=False):\n",
        "        attn_output = self.att(inputs, inputs)\n",
        "        attn_output = self.dropout1(attn_output, training=training)\n",
        "        out1 = self.layernorm1(inputs + attn_output)\n",
        "        ffn_output = self.ffn(out1)\n",
        "        ffn_output = self.dropout2(ffn_output, training=training)\n",
        "        return self.layernorm2(out1 + ffn_output)\n"
      ],
      "metadata": {
        "id": "75BPGY_OqjSe"
      },
      "execution_count": 10,
      "outputs": []
    },
    {
      "cell_type": "code",
      "source": [
        "class PositionalEmbedding(layers.Layer):\n",
        "    def __init__(self, sequence_length, vocab_size, embed_dim, **kwargs):\n",
        "        super(PositionalEmbedding, self).__init__(**kwargs)\n",
        "        self.token_embeddings = layers.Embedding(\n",
        "            input_dim=vocab_size,\n",
        "            output_dim=embed_dim,\n",
        "            mask_zero=True\n",
        "        )\n",
        "        self.position_embeddings = layers.Embedding(\n",
        "            input_dim=sequence_length,\n",
        "            output_dim=embed_dim,\n",
        "            mask_zero=True\n",
        "        )\n",
        "        self.sequence_length = sequence_length\n",
        "        self.vocab_size = vocab_size\n",
        "        self.embed_dim = embed_dim\n",
        "\n",
        "    def call(self, inputs):\n",
        "        length = tf.shape(inputs)[-1]\n",
        "        positions = tf.range(start=0, limit=length, delta=1)\n",
        "        embedded_tokens = self.token_embeddings(inputs)\n",
        "        embedded_positions = self.position_embeddings(positions)\n",
        "        return embedded_tokens + embedded_positions\n",
        "\n",
        "    def compute_mask(self, inputs, mask=None):\n",
        "        return tf.math.not_equal(inputs, 0)"
      ],
      "metadata": {
        "id": "HvFY5eVnqoBX"
      },
      "execution_count": 11,
      "outputs": []
    },
    {
      "cell_type": "code",
      "source": [
        "class TransformerDecoder(layers.Layer):\n",
        "    def __init__(self, embed_dim, latent_dim, num_heads, **kwargs):\n",
        "        super(TransformerDecoder, self).__init__(**kwargs)\n",
        "        self.embed_dim = embed_dim\n",
        "        self.latent_dim = latent_dim\n",
        "        self.num_heads = num_heads\n",
        "        self.attention_1 = layers.MultiHeadAttention(\n",
        "            num_heads=num_heads,\n",
        "            key_dim=embed_dim\n",
        "        )\n",
        "        self.attention_2 = layers.MultiHeadAttention(\n",
        "            num_heads=num_heads,\n",
        "            key_dim=embed_dim\n",
        "        )\n",
        "        self.dense_proj = keras.Sequential([\n",
        "            layers.Dense(latent_dim, activation=\"relu\"),\n",
        "            layers.Dense(embed_dim),\n",
        "        ])\n",
        "        self.layernorm_1 = layers.LayerNormalization()\n",
        "        self.layernorm_2 = layers.LayerNormalization()\n",
        "        self.layernorm_3 = layers.LayerNormalization()\n",
        "        self.supports_masking = True\n",
        "\n",
        "    def call(self, inputs, encoder_outputs, mask=None):\n",
        "        causal_mask = self.get_causal_attention_mask(inputs)\n",
        "        if mask is not None:\n",
        "            padding_mask = tf.cast(mask[:, tf.newaxis, :], dtype=\"int32\")\n",
        "            padding_mask = tf.minimum(padding_mask, causal_mask)\n",
        "        attention_output_1 = self.attention_1(\n",
        "            query=inputs,\n",
        "            value=inputs,\n",
        "            key=inputs,\n",
        "            attention_mask=causal_mask\n",
        "        )\n",
        "\n",
        "        out_1 = self.layernorm_1(inputs + attention_output_1)\n",
        "\n",
        "        attention_output_2 = self.attention_2(\n",
        "            query=out_1,\n",
        "            value=encoder_outputs,\n",
        "            key=encoder_outputs,\n",
        "            attention_mask=padding_mask\n",
        "        )\n",
        "\n",
        "        out_2 = self.layernorm_2(out_1 + attention_output_2)\n",
        "\n",
        "        proj_output = self.dense_proj(out_2)\n",
        "        out = self.layernorm_3(out_2 + proj_output)\n",
        "\n",
        "        return out\n",
        "\n",
        "    def get_causal_attention_mask(self, inputs):\n",
        "        input_shape = tf.shape(inputs)\n",
        "        batch_size, sequence_length = input_shape[0], input_shape[1]\n",
        "        i = tf.range(sequence_length)[:, tf.newaxis]\n",
        "        j = tf.range(sequence_length)\n",
        "        mask = tf.cast(i >= j, dtype=\"int32\")\n",
        "        mask = tf.reshape(mask, (1, input_shape[1], input_shape[1]))\n",
        "        mult = tf.concat(\n",
        "            [tf.expand_dims(batch_size, -1), tf.constant([1, 1], dtype=tf.int32)],\n",
        "            axis=0\n",
        "        )\n",
        "        return tf.tile(mask, mult)"
      ],
      "metadata": {
        "id": "BQ44tQ2Iqrsm"
      },
      "execution_count": 12,
      "outputs": []
    },
    {
      "cell_type": "code",
      "source": [
        "def edit_distance(y_true, y_pred):\n",
        "    y_true = tf.cast(y_true, tf.int32)\n",
        "    y_pred = tf.argmax(y_pred, axis=-1, output_type=y_true.dtype)\n",
        "    y_true_tensor = tf.sparse.from_dense(y_true)\n",
        "    y_pred_tensor = tf.sparse.from_dense(y_pred)\n",
        "    metric = 1 - tf.edit_distance(y_true_tensor, y_pred_tensor, normalize=True)\n",
        "    return metric\n",
        "\n",
        "def get_transformer(config):\n",
        "    encoder_inputs = keras.Input(shape=(None,), dtype=\"int64\", name=\"encoder_inputs\")\n",
        "    x = PositionalEmbedding(config.sequence_length, config.vocab_size, config.embed_dim)(encoder_inputs)\n",
        "    encoder_outputs = TransformerEncoder(config.embed_dim, config.num_heads, config.latent_dim)(x)\n",
        "    encoder = keras.Model(encoder_inputs, encoder_outputs)\n",
        "\n",
        "    decoder_inputs = keras.Input(shape=(None,), dtype=\"int64\", name=\"decoder_inputs\")\n",
        "    encoded_seq_inputs = keras.Input(shape=(None, config.embed_dim), name=\"decoder_state_inputs\")\n",
        "    x = PositionalEmbedding(config.sequence_length, config.vocab_size, config.embed_dim)(decoder_inputs)\n",
        "    x = TransformerDecoder(config.embed_dim, config.latent_dim, config.num_heads)(x, encoded_seq_inputs)\n",
        "    x = layers.Dropout(0.5)(x)\n",
        "    decoder_outputs = layers.Dense(config.vocab_size, activation=\"softmax\")(x)\n",
        "    decoder = keras.Model([decoder_inputs, encoded_seq_inputs], decoder_outputs)\n",
        "\n",
        "    decoder_outputs = decoder([decoder_inputs, encoder_outputs])\n",
        "    transformer = keras.Model(\n",
        "        [encoder_inputs, decoder_inputs], decoder_outputs, name=\"transformer\"\n",
        "    )\n",
        "    transformer.compile(\n",
        "        \"adam\", loss=\"sparse_categorical_crossentropy\", metrics=[\"accuracy\"]\n",
        "    )\n",
        "    return transformer"
      ],
      "metadata": {
        "id": "c874yy2EqtZl"
      },
      "execution_count": 13,
      "outputs": []
    },
    {
      "cell_type": "code",
      "source": [
        "transformer = get_transformer(config)\n",
        "transformer.summary()\n",
        "keras.utils.plot_model(transformer, show_shapes=True)\n",
        "\n",
        "log_dir = \"logs/fit/\" + datetime.datetime.now().strftime(\"%Y%m%d-%H%M%S\")\n",
        "tensorboard_callback = tf.keras.callbacks.TensorBoard(log_dir=log_dir, histogram_freq=1)"
      ],
      "metadata": {
        "colab": {
          "base_uri": "https://localhost:8080/"
        },
        "id": "JeZXnN6aqw7t",
        "outputId": "b9858d88-a1a9-481d-9324-836eb669ab32"
      },
      "execution_count": 16,
      "outputs": [
        {
          "output_type": "stream",
          "name": "stdout",
          "text": [
            "Model: \"transformer\"\n",
            "__________________________________________________________________________________________________\n",
            " Layer (type)                Output Shape                 Param #   Connected to                  \n",
            "==================================================================================================\n",
            " encoder_inputs (InputLayer  [(None, None)]               0         []                            \n",
            " )                                                                                                \n",
            "                                                                                                  \n",
            " positional_embedding_2 (Po  (None, None, 256)            4101120   ['encoder_inputs[0][0]']      \n",
            " sitionalEmbedding)                                                                               \n",
            "                                                                                                  \n",
            " decoder_inputs (InputLayer  [(None, None)]               0         []                            \n",
            " )                                                                                                \n",
            "                                                                                                  \n",
            " transformer_encoder_1 (Tra  (None, None, 256)            1184512   ['positional_embedding_2[0][0]\n",
            " nsformerEncoder)                                                   ']                            \n",
            "                                                                                                  \n",
            " model_3 (Functional)        (None, None, 16000)          1045004   ['decoder_inputs[0][0]',      \n",
            "                                                          8          'transformer_encoder_1[0][0]'\n",
            "                                                                    ]                             \n",
            "                                                                                                  \n",
            "==================================================================================================\n",
            "Total params: 15735680 (60.03 MB)\n",
            "Trainable params: 15735680 (60.03 MB)\n",
            "Non-trainable params: 0 (0.00 Byte)\n",
            "__________________________________________________________________________________________________\n"
          ]
        }
      ]
    },
    {
      "cell_type": "code",
      "source": [
        "checkpoints = tf.keras.callbacks.ModelCheckpoint(\n",
        "    \"model.tf\",\n",
        "    monitor=\"val_accuracy\",\n",
        "    mode=\"max\",\n",
        "    save_best_only=True\n",
        ")\n",
        "early_stop = tf.keras.callbacks.EarlyStopping(\n",
        "    patience=10,\n",
        "    monitor=\"val_loss\",\n",
        "    mode=\"min\",\n",
        "    restore_best_weights=True\n",
        ")\n",
        "history = transformer.fit(train_ds, epochs=config.epochs, validation_data=valid_ds, callbacks=[checkpoints, early_stop, tensorboard_callback])\n",
        "transformer.load_weights(\"model.tf\")"
      ],
      "metadata": {
        "colab": {
          "base_uri": "https://localhost:8080/"
        },
        "id": "uW2gu3f9q3bN",
        "outputId": "0e8af22d-8f9e-43c1-dc49-8fcfa83c736a"
      },
      "execution_count": 17,
      "outputs": [
        {
          "output_type": "stream",
          "name": "stdout",
          "text": [
            "Epoch 1/30\n",
            "198/198 [==============================] - 96s 381ms/step - loss: 4.2864 - accuracy: 0.3931 - val_loss: 2.9034 - val_accuracy: 0.5285\n",
            "Epoch 2/30\n",
            "198/198 [==============================] - 65s 329ms/step - loss: 2.5002 - accuracy: 0.5821 - val_loss: 2.0966 - val_accuracy: 0.6385\n",
            "Epoch 3/30\n",
            "198/198 [==============================] - 63s 321ms/step - loss: 1.8533 - accuracy: 0.6637 - val_loss: 1.7716 - val_accuracy: 0.6803\n",
            "Epoch 4/30\n",
            "198/198 [==============================] - 64s 324ms/step - loss: 1.5009 - accuracy: 0.7071 - val_loss: 1.6343 - val_accuracy: 0.6952\n",
            "Epoch 5/30\n",
            "198/198 [==============================] - 63s 317ms/step - loss: 1.2761 - accuracy: 0.7356 - val_loss: 1.5612 - val_accuracy: 0.7079\n",
            "Epoch 6/30\n",
            "198/198 [==============================] - 64s 323ms/step - loss: 1.1185 - accuracy: 0.7573 - val_loss: 1.5250 - val_accuracy: 0.7150\n",
            "Epoch 7/30\n",
            "198/198 [==============================] - 64s 322ms/step - loss: 0.9988 - accuracy: 0.7748 - val_loss: 1.5209 - val_accuracy: 0.7163\n",
            "Epoch 8/30\n",
            "198/198 [==============================] - 59s 300ms/step - loss: 0.9105 - accuracy: 0.7895 - val_loss: 1.5293 - val_accuracy: 0.7156\n",
            "Epoch 9/30\n",
            "198/198 [==============================] - 63s 318ms/step - loss: 0.8416 - accuracy: 0.8010 - val_loss: 1.5196 - val_accuracy: 0.7239\n",
            "Epoch 10/30\n",
            "198/198 [==============================] - 58s 291ms/step - loss: 0.7862 - accuracy: 0.8110 - val_loss: 1.5582 - val_accuracy: 0.7224\n",
            "Epoch 11/30\n",
            "198/198 [==============================] - 58s 295ms/step - loss: 0.7407 - accuracy: 0.8194 - val_loss: 1.5646 - val_accuracy: 0.7235\n",
            "Epoch 12/30\n",
            "198/198 [==============================] - 57s 288ms/step - loss: 0.6987 - accuracy: 0.8272 - val_loss: 1.5749 - val_accuracy: 0.7238\n",
            "Epoch 13/30\n",
            "198/198 [==============================] - 59s 297ms/step - loss: 0.6649 - accuracy: 0.8340 - val_loss: 1.6154 - val_accuracy: 0.7237\n",
            "Epoch 14/30\n",
            "198/198 [==============================] - 64s 322ms/step - loss: 0.6353 - accuracy: 0.8398 - val_loss: 1.6308 - val_accuracy: 0.7246\n",
            "Epoch 15/30\n",
            "198/198 [==============================] - 58s 294ms/step - loss: 0.6068 - accuracy: 0.8455 - val_loss: 1.6396 - val_accuracy: 0.7237\n",
            "Epoch 16/30\n",
            "198/198 [==============================] - 59s 296ms/step - loss: 0.5855 - accuracy: 0.8503 - val_loss: 1.6735 - val_accuracy: 0.7184\n",
            "Epoch 17/30\n",
            "198/198 [==============================] - 57s 288ms/step - loss: 0.5629 - accuracy: 0.8551 - val_loss: 1.6860 - val_accuracy: 0.7213\n",
            "Epoch 18/30\n",
            "198/198 [==============================] - 59s 297ms/step - loss: 0.5428 - accuracy: 0.8593 - val_loss: 1.6998 - val_accuracy: 0.7234\n",
            "Epoch 19/30\n",
            "198/198 [==============================] - 58s 294ms/step - loss: 0.5231 - accuracy: 0.8632 - val_loss: 1.7201 - val_accuracy: 0.7211\n"
          ]
        },
        {
          "output_type": "execute_result",
          "data": {
            "text/plain": [
              "<tensorflow.python.checkpoint.checkpoint.CheckpointLoadStatus at 0x7e1f245139d0>"
            ]
          },
          "metadata": {},
          "execution_count": 17
        }
      ]
    },
    {
      "cell_type": "code",
      "source": [
        "additional_epochs = 20\n",
        "\n",
        "history = transformer.fit(train_ds, epochs=config.epochs + additional_epochs, initial_epoch=config.epochs, validation_data=valid_ds, callbacks=[checkpoints, early_stop, tensorboard_callback])\n",
        "transformer.load_weights(\"model.tf\")"
      ],
      "metadata": {
        "colab": {
          "base_uri": "https://localhost:8080/"
        },
        "id": "k6FsBknXy31g",
        "outputId": "3e8fa21f-4b6d-49f2-a8a3-f3d07e7c15ca"
      },
      "execution_count": 27,
      "outputs": [
        {
          "output_type": "stream",
          "name": "stdout",
          "text": [
            "Epoch 31/50\n",
            "198/198 [==============================] - 58s 295ms/step - loss: 0.6091 - accuracy: 0.8451 - val_loss: 1.6386 - val_accuracy: 0.7229\n",
            "Epoch 32/50\n",
            "198/198 [==============================] - 58s 293ms/step - loss: 0.5865 - accuracy: 0.8497 - val_loss: 1.6704 - val_accuracy: 0.7179\n",
            "Epoch 33/50\n",
            "198/198 [==============================] - 57s 290ms/step - loss: 0.5636 - accuracy: 0.8545 - val_loss: 1.6886 - val_accuracy: 0.7198\n",
            "Epoch 34/50\n",
            "198/198 [==============================] - 58s 295ms/step - loss: 0.5451 - accuracy: 0.8585 - val_loss: 1.6890 - val_accuracy: 0.7238\n",
            "Epoch 35/50\n",
            "198/198 [==============================] - 57s 289ms/step - loss: 0.5227 - accuracy: 0.8638 - val_loss: 1.7031 - val_accuracy: 0.7246\n",
            "Epoch 36/50\n",
            "198/198 [==============================] - 58s 293ms/step - loss: 0.5037 - accuracy: 0.8675 - val_loss: 1.7273 - val_accuracy: 0.7232\n",
            "Epoch 37/50\n",
            "198/198 [==============================] - 63s 319ms/step - loss: 0.4873 - accuracy: 0.8711 - val_loss: 1.7366 - val_accuracy: 0.7254\n",
            "Epoch 38/50\n",
            "198/198 [==============================] - 56s 284ms/step - loss: 0.4717 - accuracy: 0.8744 - val_loss: 1.7588 - val_accuracy: 0.7249\n",
            "Epoch 39/50\n",
            "198/198 [==============================] - 62s 313ms/step - loss: 0.4570 - accuracy: 0.8776 - val_loss: 1.7791 - val_accuracy: 0.7255\n",
            "Epoch 40/50\n",
            "198/198 [==============================] - 57s 285ms/step - loss: 0.4457 - accuracy: 0.8801 - val_loss: 1.7967 - val_accuracy: 0.7246\n",
            "Epoch 41/50\n",
            "198/198 [==============================] - 59s 297ms/step - loss: 0.4343 - accuracy: 0.8828 - val_loss: 1.8230 - val_accuracy: 0.7252\n"
          ]
        },
        {
          "output_type": "execute_result",
          "data": {
            "text/plain": [
              "<tensorflow.python.checkpoint.checkpoint.CheckpointLoadStatus at 0x7e1f34672e00>"
            ]
          },
          "metadata": {},
          "execution_count": 27
        }
      ]
    },
    {
      "cell_type": "code",
      "source": [
        "transformer.evaluate(valid_ds)"
      ],
      "metadata": {
        "colab": {
          "base_uri": "https://localhost:8080/"
        },
        "id": "tL4yZCZ9rNz0",
        "outputId": "5d64247a-9b1b-4d78-95b9-03f96bc47102"
      },
      "execution_count": 28,
      "outputs": [
        {
          "output_type": "stream",
          "name": "stdout",
          "text": [
            "35/35 [==============================] - 4s 126ms/step - loss: 1.7791 - accuracy: 0.7255\n"
          ]
        },
        {
          "output_type": "execute_result",
          "data": {
            "text/plain": [
              "[1.779056429862976, 0.7255153059959412]"
            ]
          },
          "metadata": {},
          "execution_count": 28
        }
      ]
    },
    {
      "cell_type": "code",
      "source": [
        "def plot_learning_curves(history):\n",
        "    acc = history.history['accuracy']\n",
        "    val_acc = history.history['val_accuracy']\n",
        "    loss = history.history['loss']\n",
        "    val_loss = history.history['val_loss']\n",
        "\n",
        "    epochs = range(1, len(acc) + 1)\n",
        "\n",
        "    plt.figure(figsize=(14, 5))\n",
        "\n",
        "    # Gráfico de precisión\n",
        "    plt.subplot(1, 2, 1)\n",
        "    plt.plot(epochs, acc, 'bo-', label='Precisión de entrenamiento')\n",
        "    plt.plot(epochs, val_acc, 'ro-', label='Precisión de validación')\n",
        "    plt.title('Precisión durante el entrenamiento y la validación')\n",
        "    plt.xlabel('Épocas')\n",
        "    plt.ylabel('Precisión')\n",
        "    plt.legend()\n",
        "\n",
        "    # Gráfico de pérdida\n",
        "    plt.subplot(1, 2, 2)\n",
        "    plt.plot(epochs, loss, 'bo-', label='Pérdida de entrenamiento')\n",
        "    plt.plot(epochs, val_loss, 'ro-', label='Pérdida de validación')\n",
        "    plt.title('Pérdida durante el entrenamiento y la validación')\n",
        "    plt.xlabel('Épocas')\n",
        "    plt.ylabel('Pérdida')\n",
        "    plt.legend()\n",
        "\n",
        "    plt.show()\n",
        "\n",
        "# Llamar a la función para graficar\n",
        "plot_learning_curves(history)"
      ],
      "metadata": {
        "colab": {
          "base_uri": "https://localhost:8080/",
          "height": 490
        },
        "id": "DBSvJQgR4Me4",
        "outputId": "ccff0288-b72a-45bb-abd4-de731805600c"
      },
      "execution_count": 46,
      "outputs": [
        {
          "output_type": "display_data",
          "data": {
            "text/plain": [
              "<Figure size 1400x500 with 2 Axes>"
            ],
            "image/png": "[encoded data removed]"
          },
          "metadata": {}
        }
      ]
    },
    {
      "cell_type": "code",
      "source": [],
      "metadata": {
        "id": "1b9y9GCq4NQC"
      },
      "execution_count": null,
      "outputs": []
    }
  ]
}